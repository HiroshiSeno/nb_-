{
 "cells": [
  {
   "cell_type": "code",
   "execution_count": 1,
   "metadata": {
    "collapsed": true
   },
   "outputs": [],
   "source": [
    "import numpy as np\n",
    "import matplotlib.pyplot as plt\n",
    "import os\n",
    "import subprocess\n",
    "import glob\n",
    "import cv2\n",
    "#import seaborn as sns\n",
    "%matplotlib inline"
   ]
  },
  {
   "cell_type": "code",
   "execution_count": 2,
   "metadata": {
    "collapsed": true
   },
   "outputs": [],
   "source": [
    "from opmap.RawCam import RawCam\n",
    "from opmap.VmemMap import VmemMap\n",
    "from opmap.PhaseMap import PhaseMap\n",
    "from opmap.PhaseVarianceMap import PhaseVarianceMap\n",
    "from opmap.util import makeMovie"
   ]
  },
  {
   "cell_type": "code",
   "execution_count": 3,
   "metadata": {
    "collapsed": true
   },
   "outputs": [],
   "source": [
    "import sys\n",
    "reload(sys)\n",
    "sys.setdefaultencoding(\"utf-8\")"
   ]
  },
  {
   "cell_type": "markdown",
   "metadata": {},
   "source": [
    "# 熱拡散を用いた冷却実験の結果確認"
   ]
  },
  {
   "cell_type": "code",
   "execution_count": null,
   "metadata": {
    "collapsed": true
   },
   "outputs": [],
   "source": [
    "vmem = RawCam('/mnt/recordings/SimulationResults/20171028-1/', cam_type='numpy',\n",
    "             image_height=200, image_width=200, frame_start=0, frame_end=-1)"
   ]
  },
  {
   "cell_type": "code",
   "execution_count": null,
   "metadata": {
    "collapsed": true
   },
   "outputs": [],
   "source": [
    "vmem_temp = VmemMap(vmem)\n",
    "vmem.cmap = vmem_temp.cmap"
   ]
  },
  {
   "cell_type": "code",
   "execution_count": null,
   "metadata": {
    "collapsed": true
   },
   "outputs": [],
   "source": [
    "vmem.saveImage('/mnt/recordings/AnalysisResult/Seno/simulation/Mahajan/20171030/20171028-1')"
   ]
  },
  {
   "cell_type": "code",
   "execution_count": null,
   "metadata": {},
   "outputs": [],
   "source": [
    "subprocess.call('ffmpeg -r 30 -y -i \"/mnt/recordings/AnalysisResult/Seno/simulation/Mahajan/20171030/20171028-1/%06d.png\" -c:v libx264 -pix_fmt yuv420p -qscale 0 \"/mnt/recordings/AnalysisResult/Seno/simulation/Mahajan/20171030/vmem.mp4\"', shell=True)"
   ]
  },
  {
   "cell_type": "code",
   "execution_count": null,
   "metadata": {
    "collapsed": true
   },
   "outputs": [],
   "source": [
    "a = np.load('/mnt/recordings/SimulationResults/20171028-1/cell_8000/temp.npy')"
   ]
  },
  {
   "cell_type": "code",
   "execution_count": null,
   "metadata": {},
   "outputs": [],
   "source": [
    "plt.imshow(a.reshape((200, 200)), cmap='jet')\n",
    "plt.colorbar()"
   ]
  },
  {
   "cell_type": "markdown",
   "metadata": {
    "collapsed": true
   },
   "source": [
    "# 興奮前面・後面解析"
   ]
  },
  {
   "cell_type": "code",
   "execution_count": 4,
   "metadata": {
    "collapsed": true
   },
   "outputs": [],
   "source": [
    "out_dir = '/mnt/recordings/AnalysisResult/Seno/simulation/Mahajan/20171031'\n",
    "if not os.path.exists(out_dir):\n",
    "    os.makedirs(out_dir)"
   ]
  },
  {
   "cell_type": "code",
   "execution_count": null,
   "metadata": {
    "collapsed": true
   },
   "outputs": [],
   "source": [
    "dir_name = '20171014-40'\n",
    "time = 1000\n",
    "hj_array = np.zeros((time+1, 200, 200))\n",
    "m_array = np.zeros((time+1, 200, 200))\n",
    "Ina = np.zeros((time+1, 200, 200))\n",
    "for i in range(time):\n",
    "    num = '{0:04d}'.format(i)\n",
    "    a = np.load('/mnt/recordings/SimulationResults/%s/cell_%s/%s' % (dir_name, num, 'h.npy')).reshape((200, 200))\n",
    "    b = np.load('/mnt/recordings/SimulationResults/%s/cell_%s/%s' % (dir_name, num, 'j.npy')).reshape((200, 200))\n",
    "    hj_array[i, :, :] = a*b\n",
    "    m_array[i, :, :] = np.load('/mnt/recordings/SimulationResults/%s/cell_%s/%s' % (dir_name, num, 'm.npy')).reshape((200, 200))\n",
    "    Ina[i, :, :] = np.load('/mnt/recordings/SimulationResults/%s/cell_%s/%s' % (dir_name, num, 'xina.npy')).reshape((200, 200))"
   ]
  },
  {
   "cell_type": "markdown",
   "metadata": {},
   "source": [
    "## 興奮前面 & 興奮後面(hj)マップ & 位相分散マップ"
   ]
  },
  {
   "cell_type": "code",
   "execution_count": null,
   "metadata": {},
   "outputs": [],
   "source": [
    "vmem = RawCam('/mnt/recordings/SimulationResults/20171014-40/', cam_type='numpy',\n",
    "             image_height=200, image_width=200, frame_start=0, frame_end=300)\n",
    "vmem = VmemMap(vmem)\n",
    "phase = PhaseMap(vmem, shrink=2)\n",
    "phase_variance = PhaseVarianceMap(phase, size=3)\n",
    "\n",
    "for i in range(200):\n",
    "    num = \"{0:04d}\".format(i)\n",
    "    plt.imshow(hj_array[i], vmin=np.min(hj_array), vmax=np.max(hj_array))\n",
    "    plt.xticks([])\n",
    "    plt.yticks([])\n",
    "    plt.savefig('/mnt/recordings/AnalysisResult/Seno/simulation/Mahajan/20171031/20171014-40/hj/%s.png'%num, dpi=300)\n",
    "    plt.close()\n",
    "    \n",
    "    plt.imshow((np.sum((Ina[i-width:i, :, :] < -1), axis=0) > 0), vmin=0, vmax=1, cmap='Reds')\n",
    "    plt.xticks([])\n",
    "    plt.yticks([])\n",
    "    plt.savefig('/mnt/recordings/AnalysisResult/Seno/simulation/Mahajan/20171031/20171014-40/ina/%s.png'%num, dpi=300)\n",
    "    plt.close()\n",
    "    \n",
    "    plt.imshow((phase_variance.data[i] > 0.4), vmin=0, vmax=1, cmap='Reds')\n",
    "    plt.xticks([])\n",
    "    plt.yticks([])\n",
    "    plt.savefig('/mnt/recordings/AnalysisResult/Seno/simulation/Mahajan/20171031/20171014-40/pvmap/%s.png'%num, dpi=300, transparent=True)\n",
    "    plt.close()"
   ]
  },
  {
   "cell_type": "markdown",
   "metadata": {},
   "source": [
    "## 全画像をブレンド"
   ]
  },
  {
   "cell_type": "markdown",
   "metadata": {},
   "source": [
    "### rとbが入れ替わっている。白は255"
   ]
  },
  {
   "cell_type": "code",
   "execution_count": 64,
   "metadata": {},
   "outputs": [],
   "source": [
    "hj = cv2.cvtColor(cv2.imread(os.path.join(out_dir, '20171014-40/hj/0100.png')), cv2.COLOR_BGR2RGB)\n",
    "ina = cv2.cvtColor(cv2.imread(os.path.join(out_dir, '20171014-40/ina/0100.png')), cv2.COLOR_BGR2RGB)\n",
    "pvmap = cv2.cvtColor(cv2.imread(os.path.join(out_dir, '20171014-40/pvmap/0080.png')), cv2.COLOR_BGR2RGB)"
   ]
  },
  {
   "cell_type": "code",
   "execution_count": 65,
   "metadata": {},
   "outputs": [],
   "source": [
    "ina_threshold = (ina[:, :, 2] < 128) * (ina[:, :, 2] > 3) * 1\n",
    "center = (pvmap[:, :, 2] < 128) * (pvmap[:, :, 2] > 3) * 1"
   ]
  },
  {
   "cell_type": "code",
   "execution_count": 66,
   "metadata": {},
   "outputs": [],
   "source": [
    "data = np.zeros_like(hj)\n",
    "data[:, :, 0] = ina_threshold*255+(1-ina_threshold)*hj[:, :, 0]\n",
    "data[:, :, 1] = (1-ina_threshold)*hj[:, :, 1]\n",
    "data[:, :, 2] = (1-ina_threshold)*hj[:, :, 2]\n",
    "\n",
    "data[:, :, 0] = center*255+(1-center)*data[:, :, 0]\n",
    "data[:, :, 1] = center*255+(1-center)*data[:, :, 1]\n",
    "data[:, :, 2] = center*255+(1-center)*data[:, :, 2]"
   ]
  },
  {
   "cell_type": "code",
   "execution_count": 67,
   "metadata": {},
   "outputs": [
    {
     "data": {
      "text/plain": [
       "<matplotlib.image.AxesImage at 0x7fa1490357d0>"
      ]
     },
     "execution_count": 67,
     "metadata": {},
     "output_type": "execute_result"
    },
    {
     "data": {
      "image/png": "[encoded data removed]",
      "text/plain": [
       "<matplotlib.figure.Figure at 0x7fa149083a90>"
      ]
     },
     "metadata": {},
     "output_type": "display_data"
    }
   ],
   "source": [
    "plt.imshow(data)"
   ]
  },
  {
   "cell_type": "code",
   "execution_count": 74,
   "metadata": {},
   "outputs": [],
   "source": [
    "pv_lag = 22\n",
    "for i in range(200):\n",
    "    if i < pv_lag:\n",
    "        pass\n",
    "    else:\n",
    "        num = \"{0:04d}\".format(i)\n",
    "        pv_num = \"{0:04d}\".format(i-pv_lag)\n",
    "        hj = cv2.cvtColor(cv2.imread(os.path.join(out_dir, '20171014-40/hj/%s.png'%num)), cv2.COLOR_BGR2RGB)\n",
    "        ina = cv2.cvtColor(cv2.imread(os.path.join(out_dir, '20171014-40/ina/%s.png'%num)), cv2.COLOR_BGR2RGB)\n",
    "        pvmap = cv2.cvtColor(cv2.imread(os.path.join(out_dir, '20171014-40/pvmap/%s.png'%pv_num)), cv2.COLOR_BGR2RGB)\n",
    "        \n",
    "        ina_threshold = (ina[:, :, 2] < 128) * (ina[:, :, 2] > 3) * 1\n",
    "        center = (pvmap[:, :, 2] < 128) * (pvmap[:, :, 2] > 3) * 1\n",
    "        \n",
    "        data = np.zeros_like(hj)\n",
    "        data[:, :, 0] = ina_threshold*255+(1-ina_threshold)*hj[:, :, 0]\n",
    "        data[:, :, 1] = (1-ina_threshold)*hj[:, :, 1]\n",
    "        data[:, :, 2] = (1-ina_threshold)*hj[:, :, 2]\n",
    "\n",
    "        data[:, :, 0] = center*255+(1-center)*data[:, :, 0]\n",
    "        data[:, :, 1] = center*255+(1-center)*data[:, :, 1]\n",
    "        data[:, :, 2] = center*255+(1-center)*data[:, :, 2]\n",
    "        \n",
    "        plt.imshow(data)\n",
    "        plt.xticks([])\n",
    "        plt.yticks([])\n",
    "        plt.savefig(os.path.join(out_dir, '20171014-40/integrate/%s.png'%pv_num), dpi=300)\n",
    "        plt.close()"
   ]
  },
  {
   "cell_type": "code",
   "execution_count": null,
   "metadata": {
    "collapsed": true
   },
   "outputs": [],
   "source": []
  }
 ],
 "metadata": {
  "kernelspec": {
   "display_name": "Python 2",
   "language": "python",
   "name": "python2"
  },
  "language_info": {
   "codemirror_mode": {
    "name": "ipython",
    "version": 2
   },
   "file_extension": ".py",
   "mimetype": "text/x-python",
   "name": "python",
   "nbconvert_exporter": "python",
   "pygments_lexer": "ipython2",
   "version": "2.7.13"
  }
 },
 "nbformat": 4,
 "nbformat_minor": 2
}
