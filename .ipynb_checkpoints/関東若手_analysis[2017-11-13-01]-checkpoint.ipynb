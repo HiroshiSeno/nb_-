{
 "cells": [
  {
   "cell_type": "code",
   "execution_count": 1,
   "metadata": {
    "collapsed": true
   },
   "outputs": [],
   "source": [
    "import numpy as np\n",
    "import matplotlib.pyplot as plt\n",
    "import matplotlib.cm as cm\n",
    "import os\n",
    "import subprocess\n",
    "%matplotlib inline"
   ]
  },
  {
   "cell_type": "code",
   "execution_count": 2,
   "metadata": {
    "collapsed": true
   },
   "outputs": [],
   "source": [
    "from opmap.RawCam import RawCam\n",
    "from opmap.VmemMap import VmemMap\n",
    "from opmap.PhaseMap import PhaseMap\n",
    "from opmap.PhaseVarianceMap import PhaseVarianceMap\n",
    "from opmap.util import makeMovie"
   ]
  },
  {
   "cell_type": "markdown",
   "metadata": {},
   "source": [
    "# スライド用画像作成"
   ]
  },
  {
   "cell_type": "code",
   "execution_count": 3,
   "metadata": {
    "collapsed": true
   },
   "outputs": [],
   "source": [
    "out_dir = '/mnt/recordings/AnalysisResult/Seno/simulation/Mahajan/20171113'\n",
    "\n",
    "if not os.path.exists(out_dir):\n",
    "    os.makedirs(out_dir)"
   ]
  },
  {
   "cell_type": "markdown",
   "metadata": {},
   "source": [
    "## -45度冷却"
   ]
  },
  {
   "cell_type": "code",
   "execution_count": 5,
   "metadata": {},
   "outputs": [],
   "source": [
    "width = 7\n",
    "img = np.zeros((200, 200, 3))\n",
    "img[:,:,0] = np.ones((200, 200))*230/255\n",
    "img[:,:,1] = np.ones((200, 200))*185/255\n",
    "img[:,:,2] = np.ones((200, 200))*184/255\n",
    "for i in range(200):\n",
    "    for j in range(200):\n",
    "        if i+j > 200 and i-j < int(1.4*width) and i-j > -int(1.4*width):\n",
    "                img[i,j, 0] = 0\n",
    "                img[i,j, 1] = 0\n",
    "                img[i,j, 2] = 1\n",
    "plt.imsave(os.path.join(out_dir, '-45.png'), img)"
   ]
  },
  {
   "cell_type": "markdown",
   "metadata": {},
   "source": [
    "## 平行な冷却"
   ]
  },
  {
   "cell_type": "code",
   "execution_count": 59,
   "metadata": {
    "collapsed": true
   },
   "outputs": [],
   "source": [
    "width = 7\n",
    "img = np.zeros((200, 200, 3))\n",
    "img[:,:,0] = np.ones((200, 200))*230/255\n",
    "img[:,:,1] = np.ones((200, 200))*185/255\n",
    "img[:,:,2] = np.ones((200, 200))*184/255\n",
    "img[100-width:100+width, 100:, 0] = 0\n",
    "img[100-width:100+width, 100:, 1] = 0\n",
    "img[100-width:100+width, 100:, 2] = 1\n",
    "\n",
    "plt.imsave(os.path.join(out_dir, 'horizon.png'), img)"
   ]
  },
  {
   "cell_type": "markdown",
   "metadata": {},
   "source": [
    "## 45度冷却"
   ]
  },
  {
   "cell_type": "code",
   "execution_count": 57,
   "metadata": {
    "collapsed": true
   },
   "outputs": [],
   "source": [
    "width = 7\n",
    "img = np.zeros((200, 200, 3))\n",
    "img[:,:,0] = np.ones((200, 200))*230/255\n",
    "img[:,:,1] = np.ones((200, 200))*185/255\n",
    "img[:,:,2] = np.ones((200, 200))*184/255\n",
    "for i in range(200):\n",
    "    for j in range(200):\n",
    "        if j > i and i+j < 200+int(1.4*width) and i+j > 200-int(1.4*width):\n",
    "            if i+j > 100:\n",
    "                img[i,j, 0] = 0\n",
    "                img[i,j, 1] = 0\n",
    "                img[i,j, 2] = 1\n",
    "\n",
    "plt.imsave(os.path.join(out_dir, '45.png'), img)"
   ]
  },
  {
   "cell_type": "markdown",
   "metadata": {},
   "source": [
    "## 垂直な冷却"
   ]
  },
  {
   "cell_type": "code",
   "execution_count": 58,
   "metadata": {
    "collapsed": true
   },
   "outputs": [],
   "source": [
    "width = 7\n",
    "img = np.zeros((200, 200, 3))\n",
    "img[:,:,0] = np.ones((200, 200))*230/255\n",
    "img[:,:,1] = np.ones((200, 200))*185/255\n",
    "img[:,:,2] = np.ones((200, 200))*184/255\n",
    "img[:100, 100-width:100+width, 0] = 0\n",
    "img[:100, 100-width:100+width, 1] = 0\n",
    "img[:100, 100-width:100+width, 2] = 1\n",
    "plt.imsave(os.path.join(out_dir, 'vertical.png'), img)"
   ]
  },
  {
   "cell_type": "markdown",
   "metadata": {},
   "source": [
    "## 0.45mm"
   ]
  },
  {
   "cell_type": "code",
   "execution_count": 60,
   "metadata": {
    "collapsed": true
   },
   "outputs": [],
   "source": [
    "width = 1\n",
    "img = np.zeros((200, 200, 3))\n",
    "img[:,:,0] = np.ones((200, 200))*230/255\n",
    "img[:,:,1] = np.ones((200, 200))*185/255\n",
    "img[:,:,2] = np.ones((200, 200))*184/255\n",
    "img[100-width:100+width, 100:, 0] = 0\n",
    "img[100-width:100+width, 100:, 1] = 0\n",
    "img[100-width:100+width, 100:, 2] = 1\n",
    "\n",
    "plt.imsave(os.path.join(out_dir, 'width045.png'), img)"
   ]
  },
  {
   "cell_type": "markdown",
   "metadata": {},
   "source": [
    "## 1.05mm"
   ]
  },
  {
   "cell_type": "code",
   "execution_count": 61,
   "metadata": {
    "collapsed": true
   },
   "outputs": [],
   "source": [
    "width = 3\n",
    "img = np.zeros((200, 200, 3))\n",
    "img[:,:,0] = np.ones((200, 200))*230/255\n",
    "img[:,:,1] = np.ones((200, 200))*185/255\n",
    "img[:,:,2] = np.ones((200, 200))*184/255\n",
    "img[100-width:100+width, 100:, 0] = 0\n",
    "img[100-width:100+width, 100:, 1] = 0\n",
    "img[100-width:100+width, 100:, 2] = 1\n",
    "\n",
    "plt.imsave(os.path.join(out_dir, 'width105.png'), img)"
   ]
  },
  {
   "cell_type": "markdown",
   "metadata": {},
   "source": [
    "## 1.65mm"
   ]
  },
  {
   "cell_type": "code",
   "execution_count": 62,
   "metadata": {
    "collapsed": true
   },
   "outputs": [],
   "source": [
    "width = 5\n",
    "img = np.zeros((200, 200, 3))\n",
    "img[:,:,0] = np.ones((200, 200))*230/255\n",
    "img[:,:,1] = np.ones((200, 200))*185/255\n",
    "img[:,:,2] = np.ones((200, 200))*184/255\n",
    "img[100-width:100+width, 100:, 0] = 0\n",
    "img[100-width:100+width, 100:, 1] = 0\n",
    "img[100-width:100+width, 100:, 2] = 1\n",
    "\n",
    "plt.imsave(os.path.join(out_dir, 'width165.png'), img)"
   ]
  },
  {
   "cell_type": "markdown",
   "metadata": {},
   "source": [
    "## 2.25mm"
   ]
  },
  {
   "cell_type": "code",
   "execution_count": 63,
   "metadata": {
    "collapsed": true
   },
   "outputs": [],
   "source": [
    "width = 7\n",
    "img = np.zeros((200, 200, 3))\n",
    "img[:,:,0] = np.ones((200, 200))*230/255\n",
    "img[:,:,1] = np.ones((200, 200))*185/255\n",
    "img[:,:,2] = np.ones((200, 200))*184/255\n",
    "img[100-width:100+width, 100:, 0] = 0\n",
    "img[100-width:100+width, 100:, 1] = 0\n",
    "img[100-width:100+width, 100:, 2] = 1\n",
    "\n",
    "plt.imsave(os.path.join(out_dir, 'width225.png'), img)"
   ]
  },
  {
   "cell_type": "markdown",
   "metadata": {},
   "source": [
    "## -2K"
   ]
  },
  {
   "cell_type": "code",
   "execution_count": 65,
   "metadata": {
    "collapsed": true
   },
   "outputs": [],
   "source": [
    "temp = np.zeros((200, 200, 200))\n",
    "for i in range(200):\n",
    "    num = \"{0:04d}\".format(i)\n",
    "    temp[i, :, :] = np.load('/mnt/recordings/SimulationResults/2D/20171108-7/cell_%s/temp.npy'%num).reshape((200,200))"
   ]
  },
  {
   "cell_type": "code",
   "execution_count": 82,
   "metadata": {},
   "outputs": [
    {
     "data": {
      "text/plain": [
       "(array([58, 58, 58, 58, 58, 58, 58, 58, 58, 58, 58, 58, 58, 58, 58, 58, 58,\n",
       "        58, 58, 58, 58, 58, 58, 58, 58, 58, 58, 58, 58, 58, 58, 58, 58, 58,\n",
       "        58, 58, 58, 58, 58, 58, 58, 58, 58, 58, 58, 58, 58, 58, 58, 58, 58,\n",
       "        58, 58, 58, 58, 58, 58, 58, 58, 58, 58, 58, 58, 58, 58, 58, 58, 58,\n",
       "        58, 58, 58, 58, 58, 58, 58, 58, 58, 58, 58, 58, 58, 58, 58, 58, 58,\n",
       "        58, 58, 58, 58, 58, 58, 58, 58, 58, 58, 58, 58, 58, 58, 58, 58, 58,\n",
       "        58, 58, 58, 58, 58, 58, 58, 58, 58, 58, 58, 58, 58, 58, 58, 58, 58,\n",
       "        58, 58, 58, 58, 58, 58, 58, 58, 58, 58, 58, 58, 58, 58, 58, 58, 58,\n",
       "        58, 58, 58, 58, 58, 58, 58, 58, 58, 58, 58, 58, 58, 58, 58, 58, 58,\n",
       "        58]),\n",
       " array([ 99,  99,  99,  99,  99,  99,  99,  99,  99,  99,  99,  99,  99,\n",
       "         99,  99,  99,  99,  99,  99,  99,  99,  99,  99,  99,  99,  99,\n",
       "         99,  99,  99,  99,  99,  99,  99,  99,  99,  99,  99,  99,  99,\n",
       "         99,  99,  99,  99,  99,  99,  99,  99,  99,  99,  99,  99,  99,\n",
       "         99,  99,  99,  99,  99,  99,  99,  99,  99,  99,  99,  99,  99,\n",
       "         99,  99,  99,  99,  99,  99,  99,  99,  99,  99,  99,  99, 100,\n",
       "        100, 100, 100, 100, 100, 100, 100, 100, 100, 100, 100, 100, 100,\n",
       "        100, 100, 100, 100, 100, 100, 100, 100, 100, 100, 100, 100, 100,\n",
       "        100, 100, 100, 100, 100, 100, 100, 100, 100, 100, 100, 100, 100,\n",
       "        100, 100, 100, 100, 100, 100, 100, 100, 100, 100, 100, 100, 100,\n",
       "        100, 100, 100, 100, 100, 100, 100, 100, 100, 100, 100, 100, 100,\n",
       "        100, 100, 100, 100, 100, 100, 100, 100, 100, 100, 100]),\n",
       " array([111, 112, 113, 114, 115, 116, 117, 118, 119, 120, 121, 122, 123,\n",
       "        124, 125, 126, 127, 128, 129, 130, 131, 132, 133, 134, 135, 136,\n",
       "        137, 138, 139, 140, 141, 142, 143, 144, 145, 146, 147, 148, 149,\n",
       "        150, 151, 152, 153, 154, 155, 156, 157, 158, 159, 160, 161, 162,\n",
       "        163, 164, 165, 166, 167, 168, 169, 170, 171, 172, 173, 174, 175,\n",
       "        176, 177, 178, 179, 180, 181, 182, 183, 184, 185, 186, 187, 111,\n",
       "        112, 113, 114, 115, 116, 117, 118, 119, 120, 121, 122, 123, 124,\n",
       "        125, 126, 127, 128, 129, 130, 131, 132, 133, 134, 135, 136, 137,\n",
       "        138, 139, 140, 141, 142, 143, 144, 145, 146, 147, 148, 149, 150,\n",
       "        151, 152, 153, 154, 155, 156, 157, 158, 159, 160, 161, 162, 163,\n",
       "        164, 165, 166, 167, 168, 169, 170, 171, 172, 173, 174, 175, 176,\n",
       "        177, 178, 179, 180, 181, 182, 183, 184, 185, 186, 187]))"
      ]
     },
     "execution_count": 82,
     "metadata": {},
     "output_type": "execute_result"
    }
   ],
   "source": [
    "np.where(temp == temp.min())"
   ]
  },
  {
   "cell_type": "code",
   "execution_count": 86,
   "metadata": {
    "collapsed": true
   },
   "outputs": [],
   "source": [
    "plt.imsave(os.path.join(out_dir, '2K.png'), temp[58], cmap='jet', vmin=302, vmax=310)"
   ]
  },
  {
   "cell_type": "markdown",
   "metadata": {},
   "source": [
    "## -4K"
   ]
  },
  {
   "cell_type": "code",
   "execution_count": 87,
   "metadata": {
    "collapsed": true
   },
   "outputs": [],
   "source": [
    "temp = np.zeros((200, 200, 200))\n",
    "for i in range(200):\n",
    "    num = \"{0:04d}\".format(i)\n",
    "    temp[i, :, :] = np.load('/mnt/recordings/SimulationResults/2D/20171108-19/cell_%s/temp.npy'%num).reshape((200,200))"
   ]
  },
  {
   "cell_type": "code",
   "execution_count": 88,
   "metadata": {},
   "outputs": [
    {
     "data": {
      "text/plain": [
       "(array([116, 116, 116, 116, 116, 116, 116, 116, 116, 116, 116, 116, 116,\n",
       "        116, 116, 116, 116, 116, 116, 116, 116, 116, 116, 116, 116, 116,\n",
       "        116, 116, 116, 116, 116, 116, 116, 116, 116, 116, 116, 116, 116,\n",
       "        116, 116, 116, 116, 116, 116, 116, 116, 116, 116, 116, 116, 116,\n",
       "        116, 116, 116, 116, 116, 116, 116, 116, 116, 116, 116, 116, 116,\n",
       "        116, 116, 116, 116, 116, 116, 116, 116, 116, 116, 116, 116, 116,\n",
       "        116, 116, 116, 116, 116, 116, 116, 116, 116, 116, 116, 116, 116,\n",
       "        116, 116, 116, 116, 116, 116, 116, 116, 116, 116, 116, 116, 116,\n",
       "        116, 116, 116, 116, 116, 116, 116, 116, 116, 116, 116, 116, 116,\n",
       "        116, 116, 116, 116, 116, 116, 116, 116, 116, 116, 116, 116, 116,\n",
       "        116, 116, 116, 116, 116, 116, 116, 116, 116, 116, 116, 116, 116,\n",
       "        116, 116, 116]),\n",
       " array([ 99,  99,  99,  99,  99,  99,  99,  99,  99,  99,  99,  99,  99,\n",
       "         99,  99,  99,  99,  99,  99,  99,  99,  99,  99,  99,  99,  99,\n",
       "         99,  99,  99,  99,  99,  99,  99,  99,  99,  99,  99,  99,  99,\n",
       "         99,  99,  99,  99,  99,  99,  99,  99,  99,  99,  99,  99,  99,\n",
       "         99,  99,  99,  99,  99,  99,  99,  99,  99,  99,  99,  99,  99,\n",
       "         99,  99,  99,  99,  99,  99,  99,  99, 100, 100, 100, 100, 100,\n",
       "        100, 100, 100, 100, 100, 100, 100, 100, 100, 100, 100, 100, 100,\n",
       "        100, 100, 100, 100, 100, 100, 100, 100, 100, 100, 100, 100, 100,\n",
       "        100, 100, 100, 100, 100, 100, 100, 100, 100, 100, 100, 100, 100,\n",
       "        100, 100, 100, 100, 100, 100, 100, 100, 100, 100, 100, 100, 100,\n",
       "        100, 100, 100, 100, 100, 100, 100, 100, 100, 100, 100, 100, 100,\n",
       "        100, 100, 100]),\n",
       " array([113, 114, 115, 116, 117, 118, 119, 120, 121, 122, 123, 124, 125,\n",
       "        126, 127, 128, 129, 130, 131, 132, 133, 134, 135, 136, 137, 138,\n",
       "        139, 140, 141, 142, 143, 144, 145, 146, 147, 148, 149, 150, 151,\n",
       "        152, 153, 154, 155, 156, 157, 158, 159, 160, 161, 162, 163, 164,\n",
       "        165, 166, 167, 168, 169, 170, 171, 172, 173, 174, 175, 176, 177,\n",
       "        178, 179, 180, 181, 182, 183, 184, 185, 113, 114, 115, 116, 117,\n",
       "        118, 119, 120, 121, 122, 123, 124, 125, 126, 127, 128, 129, 130,\n",
       "        131, 132, 133, 134, 135, 136, 137, 138, 139, 140, 141, 142, 143,\n",
       "        144, 145, 146, 147, 148, 149, 150, 151, 152, 153, 154, 155, 156,\n",
       "        157, 158, 159, 160, 161, 162, 163, 164, 165, 166, 167, 168, 169,\n",
       "        170, 171, 172, 173, 174, 175, 176, 177, 178, 179, 180, 181, 182,\n",
       "        183, 184, 185]))"
      ]
     },
     "execution_count": 88,
     "metadata": {},
     "output_type": "execute_result"
    }
   ],
   "source": [
    "np.where(temp == temp.min())"
   ]
  },
  {
   "cell_type": "code",
   "execution_count": 89,
   "metadata": {
    "collapsed": true
   },
   "outputs": [],
   "source": [
    "plt.imsave(os.path.join(out_dir, '4K.png'), temp[116], cmap='jet', vmin=302, vmax=310)"
   ]
  },
  {
   "cell_type": "markdown",
   "metadata": {},
   "source": [
    "## -6K"
   ]
  },
  {
   "cell_type": "code",
   "execution_count": 101,
   "metadata": {
    "collapsed": true
   },
   "outputs": [],
   "source": [
    "temp = np.zeros((300, 200, 200))\n",
    "for i in range(300):\n",
    "    num = \"{0:04d}\".format(i)\n",
    "    temp[i, :, :] = np.load('/mnt/recordings/SimulationResults/2D/20171108-31/cell_%s/temp.npy'%num).reshape((200,200))"
   ]
  },
  {
   "cell_type": "code",
   "execution_count": 102,
   "metadata": {},
   "outputs": [
    {
     "data": {
      "text/plain": [
       "(array([177, 177, 177, 177, 177, 177, 177, 177, 177, 177, 177, 177, 177,\n",
       "        177, 177, 177, 177, 177, 177, 177, 177, 177, 177, 177, 177, 177,\n",
       "        177, 177, 177, 177, 177, 177, 177, 177, 177, 177, 177, 177, 177,\n",
       "        177, 177, 177, 177, 177, 177, 177, 177, 177, 177, 177, 177, 177,\n",
       "        177, 177, 177, 177, 177, 177, 177, 177, 177, 177, 177, 177, 177,\n",
       "        177, 177, 177, 177, 177, 177, 177, 177, 177, 177, 177, 177, 177,\n",
       "        177, 177, 177, 177, 177, 177, 177, 177, 177, 177, 177, 177, 177,\n",
       "        177, 177, 177, 177, 177, 177, 177, 177, 177, 177, 177, 177, 177,\n",
       "        177, 177, 177, 177, 177, 177, 177, 177, 177, 177, 177, 177, 177,\n",
       "        177, 177, 177, 177, 177, 177, 177, 177, 177, 177, 177, 177, 177,\n",
       "        177, 177, 177, 177, 177, 177]),\n",
       " array([ 99,  99,  99,  99,  99,  99,  99,  99,  99,  99,  99,  99,  99,\n",
       "         99,  99,  99,  99,  99,  99,  99,  99,  99,  99,  99,  99,  99,\n",
       "         99,  99,  99,  99,  99,  99,  99,  99,  99,  99,  99,  99,  99,\n",
       "         99,  99,  99,  99,  99,  99,  99,  99,  99,  99,  99,  99,  99,\n",
       "         99,  99,  99,  99,  99,  99,  99,  99,  99,  99,  99,  99,  99,\n",
       "         99,  99, 100, 100, 100, 100, 100, 100, 100, 100, 100, 100, 100,\n",
       "        100, 100, 100, 100, 100, 100, 100, 100, 100, 100, 100, 100, 100,\n",
       "        100, 100, 100, 100, 100, 100, 100, 100, 100, 100, 100, 100, 100,\n",
       "        100, 100, 100, 100, 100, 100, 100, 100, 100, 100, 100, 100, 100,\n",
       "        100, 100, 100, 100, 100, 100, 100, 100, 100, 100, 100, 100, 100,\n",
       "        100, 100, 100, 100, 100, 100]),\n",
       " array([116, 117, 118, 119, 120, 121, 122, 123, 124, 125, 126, 127, 128,\n",
       "        129, 130, 131, 132, 133, 134, 135, 136, 137, 138, 139, 140, 141,\n",
       "        142, 143, 144, 145, 146, 147, 148, 149, 150, 151, 152, 153, 154,\n",
       "        155, 156, 157, 158, 159, 160, 161, 162, 163, 164, 165, 166, 167,\n",
       "        168, 169, 170, 171, 172, 173, 174, 175, 176, 177, 178, 179, 180,\n",
       "        181, 182, 115, 116, 117, 118, 119, 120, 121, 122, 123, 124, 125,\n",
       "        126, 127, 128, 129, 130, 131, 132, 133, 134, 135, 136, 137, 138,\n",
       "        139, 140, 141, 142, 143, 144, 145, 146, 147, 148, 149, 150, 151,\n",
       "        152, 153, 154, 155, 156, 157, 158, 159, 160, 161, 162, 163, 164,\n",
       "        165, 166, 167, 168, 169, 170, 171, 172, 173, 174, 175, 176, 177,\n",
       "        178, 179, 180, 181, 182, 183]))"
      ]
     },
     "execution_count": 102,
     "metadata": {},
     "output_type": "execute_result"
    }
   ],
   "source": [
    "np.where(temp == temp.min())"
   ]
  },
  {
   "cell_type": "code",
   "execution_count": 92,
   "metadata": {
    "collapsed": true
   },
   "outputs": [],
   "source": [
    "plt.imsave(os.path.join(out_dir, '6K.png'), temp[177], cmap='jet', vmin=302, vmax=310)"
   ]
  },
  {
   "cell_type": "markdown",
   "metadata": {},
   "source": [
    "## -8K"
   ]
  },
  {
   "cell_type": "code",
   "execution_count": 104,
   "metadata": {
    "collapsed": true
   },
   "outputs": [],
   "source": [
    "temp = np.zeros((400, 200, 200))\n",
    "for i in range(400):\n",
    "    num = \"{0:04d}\".format(i)\n",
    "    temp[i, :, :] = np.load('/mnt/recordings/SimulationResults/2D/20171108-43/cell_%s/temp.npy'%num).reshape((200,200))"
   ]
  },
  {
   "cell_type": "code",
   "execution_count": 105,
   "metadata": {},
   "outputs": [
    {
     "data": {
      "text/plain": [
       "(array([239, 239, 239, 239, 239, 239, 239, 239, 239, 239, 239, 239, 239,\n",
       "        239, 239, 239, 239, 239, 239, 239, 239, 239, 239, 239, 239, 239,\n",
       "        239, 239, 239, 239, 239, 239, 239, 239, 239, 239, 239, 239, 239,\n",
       "        239, 239, 239, 239, 239, 239, 239, 239, 239, 239, 239, 239, 239,\n",
       "        239, 239, 239, 239, 239, 239, 239, 239, 239, 239, 239, 239, 239,\n",
       "        239, 239, 239, 239, 239, 239, 239, 239, 239, 239, 239, 239, 239,\n",
       "        239, 239, 239, 239, 239, 239, 239, 239, 239, 239, 239, 239, 239,\n",
       "        239, 239, 239, 239, 239, 239, 239, 239, 239, 239, 239, 239, 239,\n",
       "        239, 239, 239, 239, 239, 239, 239, 239, 239, 239, 239, 239, 239,\n",
       "        239, 239, 239, 239, 239, 239, 239, 239, 239, 239, 239, 239, 239]),\n",
       " array([ 99,  99,  99,  99,  99,  99,  99,  99,  99,  99,  99,  99,  99,\n",
       "         99,  99,  99,  99,  99,  99,  99,  99,  99,  99,  99,  99,  99,\n",
       "         99,  99,  99,  99,  99,  99,  99,  99,  99,  99,  99,  99,  99,\n",
       "         99,  99,  99,  99,  99,  99,  99,  99,  99,  99,  99,  99,  99,\n",
       "         99,  99,  99,  99,  99,  99,  99,  99,  99,  99,  99,  99,  99,\n",
       "        100, 100, 100, 100, 100, 100, 100, 100, 100, 100, 100, 100, 100,\n",
       "        100, 100, 100, 100, 100, 100, 100, 100, 100, 100, 100, 100, 100,\n",
       "        100, 100, 100, 100, 100, 100, 100, 100, 100, 100, 100, 100, 100,\n",
       "        100, 100, 100, 100, 100, 100, 100, 100, 100, 100, 100, 100, 100,\n",
       "        100, 100, 100, 100, 100, 100, 100, 100, 100, 100, 100, 100, 100]),\n",
       " array([117, 118, 119, 120, 121, 122, 123, 124, 125, 126, 127, 128, 129,\n",
       "        130, 131, 132, 133, 134, 135, 136, 137, 138, 139, 140, 141, 142,\n",
       "        143, 144, 145, 146, 147, 148, 149, 150, 151, 152, 153, 154, 155,\n",
       "        156, 157, 158, 159, 160, 161, 162, 163, 164, 165, 166, 167, 168,\n",
       "        169, 170, 171, 172, 173, 174, 175, 176, 177, 178, 179, 180, 181,\n",
       "        117, 118, 119, 120, 121, 122, 123, 124, 125, 126, 127, 128, 129,\n",
       "        130, 131, 132, 133, 134, 135, 136, 137, 138, 139, 140, 141, 142,\n",
       "        143, 144, 145, 146, 147, 148, 149, 150, 151, 152, 153, 154, 155,\n",
       "        156, 157, 158, 159, 160, 161, 162, 163, 164, 165, 166, 167, 168,\n",
       "        169, 170, 171, 172, 173, 174, 175, 176, 177, 178, 179, 180, 181]))"
      ]
     },
     "execution_count": 105,
     "metadata": {},
     "output_type": "execute_result"
    }
   ],
   "source": [
    "np.where(temp == temp.min())"
   ]
  },
  {
   "cell_type": "code",
   "execution_count": 106,
   "metadata": {
    "collapsed": true
   },
   "outputs": [],
   "source": [
    "plt.imsave(os.path.join(out_dir, '8K.png'), temp[239], cmap='jet', vmin=302, vmax=310)"
   ]
  },
  {
   "cell_type": "code",
   "execution_count": 107,
   "metadata": {},
   "outputs": [
    {
     "data": {
      "text/plain": [
       "301.99043490934923"
      ]
     },
     "execution_count": 107,
     "metadata": {},
     "output_type": "execute_result"
    }
   ],
   "source": [
    "np.min(temp[239])"
   ]
  },
  {
   "cell_type": "code",
   "execution_count": 108,
   "metadata": {
    "collapsed": true
   },
   "outputs": [],
   "source": [
    "plt.imshow(temp[239], vmin=302, vmax=310, cmap='jet')\n",
    "plt.colorbar()\n",
    "plt.savefig(os.path.join(out_dir, 'colormap.png'), dpi=300)\n",
    "plt.close()"
   ]
  },
  {
   "cell_type": "markdown",
   "metadata": {},
   "source": [
    "## 温度変化"
   ]
  },
  {
   "cell_type": "code",
   "execution_count": 109,
   "metadata": {
    "collapsed": true
   },
   "outputs": [],
   "source": [
    "temp = np.zeros((1000, 200, 200))\n",
    "for i in range(1000):\n",
    "    num = \"{0:04d}\".format(i)\n",
    "    temp[i, :, :] = np.load('/mnt/recordings/SimulationResults/2D/20171108-43/cell_%s/temp.npy'%num).reshape((200,200))"
   ]
  },
  {
   "cell_type": "code",
   "execution_count": 112,
   "metadata": {
    "collapsed": true
   },
   "outputs": [],
   "source": [
    "dat = temp[:, 100, 150]\n",
    "x = np.linspace(-100, 0, 1000)\n",
    "y = np.ones_like(x)*310"
   ]
  },
  {
   "cell_type": "code",
   "execution_count": 148,
   "metadata": {
    "collapsed": true
   },
   "outputs": [],
   "source": [
    "plt.plot(x,y, color='black')\n",
    "plt.plot(dat, color='black')\n",
    "plt.plot(dat[1:238], color='blue', lw=2)\n",
    "plt.xlim([-100, 800])\n",
    "plt.ylim([301, 311])\n",
    "plt.xticks([])\n",
    "plt.yticks([])\n",
    "plt.hlines([302], xmin=-100, xmax=1000, linestyles='dashed', lw=1)\n",
    "plt.vlines([0], ymin=300, ymax=310, linestyles='dashed', lw=1)\n",
    "plt.vlines([239], ymin=300, ymax=302, linestyles='dashed', lw=1)\n",
    "plt.savefig('/mnt/recordings/AnalysisResult/Seno/simulation/Mahajan/20171113/temp.png', dpi=300)\n",
    "plt.close()"
   ]
  },
  {
   "cell_type": "markdown",
   "metadata": {},
   "source": [
    "## 温度分布"
   ]
  },
  {
   "cell_type": "code",
   "execution_count": 213,
   "metadata": {
    "collapsed": true
   },
   "outputs": [],
   "source": [
    "temp1 = np.zeros((1000, 200, 200))\n",
    "temp2 = np.zeros((1000, 200, 200))\n",
    "for i in range(1000):\n",
    "    num = \"{0:04d}\".format(i)\n",
    "    temp1[i, :, :] = np.load('/mnt/recordings/SimulationResults/2D/20171108-31/cell_%s/temp.npy'%num).reshape((200,200))\n",
    "    temp2[i, :, :] = np.load('/mnt/recordings/SimulationResults/2D/20171108-33/cell_%s/temp.npy'%num).reshape((200,200))"
   ]
  },
  {
   "cell_type": "code",
   "execution_count": 214,
   "metadata": {
    "collapsed": true
   },
   "outputs": [],
   "source": [
    "for i in range(1000):\n",
    "    num = \"{0:04d}\".format(i)\n",
    "    plt.subplot(1,2,1)\n",
    "    plt.imshow(temp1[i, :, :], cmap='jet', vmin=np.min(temp1), vmax=np.max(temp1))\n",
    "    plt.xticks([])\n",
    "    plt.yticks([])\n",
    "    plt.text(5,20,\"%s (ms)\"%num,fontsize=16, color='white')\n",
    "\n",
    "    plt.subplot(1,2,2)\n",
    "    plt.imshow(temp2[i, :, :], cmap='jet', vmin=np.min(temp2), vmax=np.max(temp2))\n",
    "    plt.xticks([])\n",
    "    plt.yticks([])\n",
    "    plt.text(5,20,\"%s (ms)\"%num,fontsize=16, color='white')\n",
    "    \n",
    "    plt.savefig('/mnt/recordings/AnalysisResult/Seno/simulation/Mahajan/20171113/temp_compare/%s.png' % num)\n",
    "    plt.close()"
   ]
  },
  {
   "cell_type": "code",
   "execution_count": 6,
   "metadata": {},
   "outputs": [
    {
     "data": {
      "text/plain": [
       "0"
      ]
     },
     "execution_count": 6,
     "metadata": {},
     "output_type": "execute_result"
    }
   ],
   "source": [
    "subprocess.call('ffmpeg -r 100 -y -i \"/mnt/recordings/AnalysisResult/Seno/simulation/Mahajan/20171113/temp_compare/%04d.png\" -c:v libx264 -pix_fmt yuv420p -qscale 0 \"/mnt/recordings/AnalysisResult/Seno/simulation/Mahajan/20171113/temp_compare.mp4\"', shell=True)"
   ]
  },
  {
   "cell_type": "markdown",
   "metadata": {},
   "source": [
    "## 膜電位と温度分布の混合"
   ]
  },
  {
   "cell_type": "code",
   "execution_count": 4,
   "metadata": {
    "collapsed": true
   },
   "outputs": [],
   "source": [
    "a = RawCam('/mnt/recordings/SimulationResults/2D/20171108-1/', cam_type='numpy',\n",
    "           image_width=200, image_height=200, frame_start=0, frame_end=100)\n",
    "b = VmemMap(a)"
   ]
  },
  {
   "cell_type": "code",
   "execution_count": 10,
   "metadata": {
    "collapsed": true
   },
   "outputs": [],
   "source": [
    "plt.imshow(a.data[0, :, :], cmap=b.cmap)\n",
    "plt.colorbar()\n",
    "plt.savefig('/mnt/recordings/AnalysisResult/Seno/simulation/Mahajan/20171113/vmem_colorbar.png', dpi=300)\n",
    "plt.close()"
   ]
  },
  {
   "cell_type": "code",
   "execution_count": 211,
   "metadata": {
    "collapsed": true
   },
   "outputs": [],
   "source": [
    "plt.close()\n",
    "for i in range(1000):\n",
    "    num = \"{0:04d}\".format(i)\n",
    "    vmem = np.load('/mnt/recordings/SimulationResults/2D/20171108-31/vmem_%s.npy' % num)\n",
    "    temp = np.load('/mnt/recordings/SimulationResults/2D/20171108-31/cell_%s/temp.npy' % num).reshape((200,200))\n",
    "    \n",
    "    plt.imshow(vmem, cmap=b.cmap, alpha=0.5)\n",
    "    plt.imshow(temp, cmap='jet', alpha=0.5, vmin=304, vmax=310)\n",
    "    plt.xticks([])\n",
    "    plt.yticks([])\n",
    "    plt.text(5,20,\"%s (ms)\"% num,fontsize=16, color='white')\n",
    "    \n",
    "    plt.savefig('/mnt/recordings/AnalysisResult/Seno/simulation/Mahajan/20171113/vmem_temp/20171108-31/%s.png' % num)\n",
    "    plt.close()"
   ]
  },
  {
   "cell_type": "code",
   "execution_count": 212,
   "metadata": {
    "collapsed": true
   },
   "outputs": [],
   "source": [
    "plt.close()\n",
    "for i in range(1000):\n",
    "    num = \"{0:04d}\".format(i)\n",
    "    vmem = np.load('/mnt/recordings/SimulationResults/2D/20171108-33/vmem_%s.npy' % num)\n",
    "    temp = np.load('/mnt/recordings/SimulationResults/2D/20171108-33/cell_%s/temp.npy' % num).reshape((200,200))\n",
    "    \n",
    "    plt.imshow(vmem, cmap=b.cmap, alpha=0.5)\n",
    "    plt.imshow(temp, cmap='jet', alpha=0.5, vmin=304, vmax=310)\n",
    "    plt.xticks([])\n",
    "    plt.yticks([])\n",
    "    plt.text(5,20,\"%s (ms)\"% num,fontsize=16, color='white')\n",
    "    \n",
    "    plt.savefig('/mnt/recordings/AnalysisResult/Seno/simulation/Mahajan/20171113/vmem_temp/20171108-33/%s.png' % num)\n",
    "    plt.close()"
   ]
  },
  {
   "cell_type": "code",
   "execution_count": 7,
   "metadata": {},
   "outputs": [
    {
     "data": {
      "text/plain": [
       "0"
      ]
     },
     "execution_count": 7,
     "metadata": {},
     "output_type": "execute_result"
    }
   ],
   "source": [
    "subprocess.call('ffmpeg -r 20 -y -i \"/mnt/recordings/AnalysisResult/Seno/simulation/Mahajan/20171113/vmem_temp/20171108-31/%04d.png\" -c:v libx264 -pix_fmt yuv420p -qscale 0 \"/mnt/recordings/AnalysisResult/Seno/simulation/Mahajan/20171113/vmem_temp/20171108-31.mp4\"', shell=True)"
   ]
  },
  {
   "cell_type": "code",
   "execution_count": 10,
   "metadata": {},
   "outputs": [
    {
     "data": {
      "text/plain": [
       "0"
      ]
     },
     "execution_count": 10,
     "metadata": {},
     "output_type": "execute_result"
    }
   ],
   "source": [
    "subprocess.call('ffmpeg -r 100 -y -i \"/mnt/recordings/AnalysisResult/Seno/simulation/Mahajan/20171113/vmem_temp/20171108-33/%04d.png\" -c:v libx264 -pix_fmt yuv420p -qscale 0 \"/mnt/recordings/AnalysisResult/Seno/simulation/Mahajan/20171113/vmem_temp/20171108-33.mp4\"', shell=True)"
   ]
  },
  {
   "cell_type": "markdown",
   "metadata": {},
   "source": [
    "## カラーバー"
   ]
  },
  {
   "cell_type": "code",
   "execution_count": 4,
   "metadata": {
    "collapsed": true
   },
   "outputs": [],
   "source": [
    "a = np.ones((200,200)) * 310\n",
    "a[0,0] = 304\n",
    "plt.imshow(a, cmap='jet')\n",
    "plt.colorbar()\n",
    "plt.savefig('/mnt/recordings/AnalysisResult/Seno/simulation/Mahajan/20171113/colorbar.png', dpi=300)\n",
    "plt.close()"
   ]
  },
  {
   "cell_type": "markdown",
   "metadata": {},
   "source": [
    "## ヒートマップ"
   ]
  },
  {
   "cell_type": "markdown",
   "metadata": {},
   "source": [
    "### 心筋線維走向に沿った例"
   ]
  },
  {
   "cell_type": "code",
   "execution_count": 185,
   "metadata": {
    "collapsed": true
   },
   "outputs": [],
   "source": [
    "import seaborn as sns"
   ]
  },
  {
   "cell_type": "code",
   "execution_count": 184,
   "metadata": {
    "collapsed": true
   },
   "outputs": [],
   "source": [
    "data = [[np.nan, 10, 6, 3],\n",
    "        [10, 3, 2, 2],\n",
    "        [5, 3, 2, 2],\n",
    "        [5, 3, 2, 2]]"
   ]
  },
  {
   "cell_type": "code",
   "execution_count": 187,
   "metadata": {
    "collapsed": true
   },
   "outputs": [],
   "source": [
    "sns.set(font_scale=3)\n",
    "sns.heatmap(data, annot=True, fmt=\"1.0f\", cmap='Blues_r', vmin=2, vmax=12, cbar=False)\n",
    "plt.xticks([0.5,1.5,2.5,3.5],[0.45, 1.05, 1.65, 2.25], size=30)\n",
    "plt.yticks([0.5,1.5,2.5,3.5],[-8, -6, -4, -2], size=30)\n",
    "plt.tight_layout()\n",
    "plt.savefig('/mnt/recordings/AnalysisResult/Seno/simulation/Mahajan/20171113/heatmap_parallel.png', dpi=300)\n",
    "plt.close()"
   ]
  },
  {
   "cell_type": "markdown",
   "metadata": {},
   "source": [
    "### 45度冷却"
   ]
  },
  {
   "cell_type": "code",
   "execution_count": 194,
   "metadata": {
    "collapsed": true
   },
   "outputs": [],
   "source": [
    "data = [[np.nan, np.nan, 11, np.nan],\n",
    "        [np.nan, np.nan, np.nan, np.nan],\n",
    "        [np.nan, np.nan, 9, np.nan],\n",
    "        [np.nan, 12, 7, 3]]\n",
    "\n",
    "sns.set(font_scale=3)\n",
    "sns.heatmap(data, annot=True, fmt=\"1.0f\", cmap='Blues_r', vmin=2, vmax=12, cbar=False)\n",
    "plt.xticks([0.5,1.5,2.5,3.5],[0.45, 1.05, 1.65, 2.25], size=30)\n",
    "plt.yticks([0.5,1.5,2.5,3.5],[-8, -6, -4, -2], size=30)\n",
    "plt.tight_layout()\n",
    "plt.savefig('/mnt/recordings/AnalysisResult/Seno/simulation/Mahajan/20171113/heatmap_45.png', dpi=300)\n",
    "plt.close()"
   ]
  },
  {
   "cell_type": "markdown",
   "metadata": {},
   "source": [
    "### 90度冷却"
   ]
  },
  {
   "cell_type": "code",
   "execution_count": 195,
   "metadata": {
    "collapsed": true
   },
   "outputs": [],
   "source": [
    "data = [[np.nan, np.nan, np.nan, np.nan],\n",
    "        [np.nan, np.nan, np.nan, np.nan],\n",
    "        [np.nan, np.nan, np.nan, np.nan],\n",
    "        [np.nan, np.nan, 7, np.nan]]\n",
    "\n",
    "sns.set(font_scale=3)\n",
    "sns.heatmap(data, annot=True, fmt=\"1.0f\", cmap='Blues_r', vmin=2, vmax=12, cbar=False)\n",
    "plt.xticks([0.5,1.5,2.5,3.5],[0.45, 1.05, 1.65, 2.25], size=30)\n",
    "plt.yticks([0.5,1.5,2.5,3.5],[-8, -6, -4, -2], size=30)\n",
    "plt.tight_layout()\n",
    "plt.savefig('/mnt/recordings/AnalysisResult/Seno/simulation/Mahajan/20171113/heatmap_vertical.png', dpi=300)\n",
    "plt.close()"
   ]
  },
  {
   "cell_type": "markdown",
   "metadata": {},
   "source": [
    "## 考察用スライド"
   ]
  },
  {
   "cell_type": "code",
   "execution_count": 6,
   "metadata": {
    "collapsed": true
   },
   "outputs": [],
   "source": [
    "temp = np.zeros((400, 200, 200))\n",
    "for i in range(400):\n",
    "    num = \"{0:04d}\".format(i)\n",
    "    temp[i, :, :] = np.load('/mnt/recordings/SimulationResults/2D/20171108-46/cell_%s/temp.npy'%num).reshape((200,200))"
   ]
  },
  {
   "cell_type": "code",
   "execution_count": 7,
   "metadata": {},
   "outputs": [
    {
     "data": {
      "text/plain": [
       "(array([239, 239, 239, 239, 239, 239, 239, 239, 239, 239, 239, 239, 239,\n",
       "        239, 239, 239, 239, 239, 239, 239, 239, 239, 239, 239, 239, 239,\n",
       "        239, 239, 239, 239, 239, 239, 239, 239, 239, 239, 239, 239, 239,\n",
       "        239, 239, 239, 239, 239, 239, 239, 239, 239, 239, 239, 239, 239,\n",
       "        239, 239, 239, 239, 239, 239, 239, 239, 239, 239, 239, 239, 239,\n",
       "        239, 239, 239, 239, 239, 239, 239, 239, 239, 239, 239, 239, 239,\n",
       "        239, 239, 239, 239, 239, 239, 239, 239, 239, 239, 239, 239, 239,\n",
       "        239, 239, 239, 239, 239, 239, 239, 239, 239, 239, 239, 239, 239,\n",
       "        239, 239, 239, 239, 239, 239, 239, 239, 239, 239, 239, 239, 239,\n",
       "        239, 239, 239, 239, 239, 239, 239, 239, 239, 239, 239, 239, 239]),\n",
       " array([ 99,  99,  99,  99,  99,  99,  99,  99,  99,  99,  99,  99,  99,\n",
       "         99,  99,  99,  99,  99,  99,  99,  99,  99,  99,  99,  99,  99,\n",
       "         99,  99,  99,  99,  99,  99,  99,  99,  99,  99,  99,  99,  99,\n",
       "         99,  99,  99,  99,  99,  99,  99,  99,  99,  99,  99,  99,  99,\n",
       "         99,  99,  99,  99,  99,  99,  99,  99,  99,  99,  99,  99,  99,\n",
       "        100, 100, 100, 100, 100, 100, 100, 100, 100, 100, 100, 100, 100,\n",
       "        100, 100, 100, 100, 100, 100, 100, 100, 100, 100, 100, 100, 100,\n",
       "        100, 100, 100, 100, 100, 100, 100, 100, 100, 100, 100, 100, 100,\n",
       "        100, 100, 100, 100, 100, 100, 100, 100, 100, 100, 100, 100, 100,\n",
       "        100, 100, 100, 100, 100, 100, 100, 100, 100, 100, 100, 100, 100]),\n",
       " array([117, 118, 119, 120, 121, 122, 123, 124, 125, 126, 127, 128, 129,\n",
       "        130, 131, 132, 133, 134, 135, 136, 137, 138, 139, 140, 141, 142,\n",
       "        143, 144, 145, 146, 147, 148, 149, 150, 151, 152, 153, 154, 155,\n",
       "        156, 157, 158, 159, 160, 161, 162, 163, 164, 165, 166, 167, 168,\n",
       "        169, 170, 171, 172, 173, 174, 175, 176, 177, 178, 179, 180, 181,\n",
       "        117, 118, 119, 120, 121, 122, 123, 124, 125, 126, 127, 128, 129,\n",
       "        130, 131, 132, 133, 134, 135, 136, 137, 138, 139, 140, 141, 142,\n",
       "        143, 144, 145, 146, 147, 148, 149, 150, 151, 152, 153, 154, 155,\n",
       "        156, 157, 158, 159, 160, 161, 162, 163, 164, 165, 166, 167, 168,\n",
       "        169, 170, 171, 172, 173, 174, 175, 176, 177, 178, 179, 180, 181]))"
      ]
     },
     "execution_count": 7,
     "metadata": {},
     "output_type": "execute_result"
    }
   ],
   "source": [
    "np.where(temp == temp.min())"
   ]
  },
  {
   "cell_type": "code",
   "execution_count": 11,
   "metadata": {
    "collapsed": true
   },
   "outputs": [],
   "source": [
    "plt.imshow(temp[239], vmin=302, vmax=310, cmap='jet')\n",
    "plt.colorbar()\n",
    "plt.xticks([])\n",
    "plt.yticks([])\n",
    "plt.savefig(os.path.join(out_dir, 'temp_46.png'), dpi=300)\n",
    "plt.close()"
   ]
  },
  {
   "cell_type": "code",
   "execution_count": 12,
   "metadata": {
    "collapsed": true
   },
   "outputs": [],
   "source": [
    "temp = np.zeros((400, 200, 200))\n",
    "for i in range(400):\n",
    "    num = \"{0:04d}\".format(i)\n",
    "    temp[i, :, :] = np.load('/mnt/recordings/SimulationResults/2D/20171108-48/cell_%s/temp.npy'%num).reshape((200,200))"
   ]
  },
  {
   "cell_type": "code",
   "execution_count": 13,
   "metadata": {},
   "outputs": [
    {
     "data": {
      "text/plain": [
       "(array([239, 239, 239, 239, 239, 239, 239, 239, 239, 239, 239, 239, 239,\n",
       "        239, 239, 239, 239, 239, 239, 239, 239, 239, 239, 239, 239, 239,\n",
       "        239, 239, 239, 239, 239, 239, 239, 239, 239, 239, 239, 239, 239,\n",
       "        239, 239, 239, 239, 239, 239, 239, 239, 239, 239, 239, 239, 239,\n",
       "        239, 239, 239, 239, 239, 239, 239, 239, 239, 239, 239, 239, 239,\n",
       "        239, 239, 239, 239, 239, 239, 239, 239, 239, 239, 239, 239, 239,\n",
       "        239, 239, 239, 239, 239, 239, 239, 239, 239, 239, 239, 239, 239,\n",
       "        239, 239, 239, 239, 239, 239, 239, 239, 239, 239, 239, 239, 239,\n",
       "        239, 239, 239, 239, 239, 239, 239, 239, 239, 239, 239, 239, 239,\n",
       "        239, 239, 239, 239, 239, 239, 239, 239, 239, 239, 239, 239, 239]),\n",
       " array([18, 18, 19, 19, 20, 20, 21, 21, 22, 22, 23, 23, 24, 24, 25, 25, 26,\n",
       "        26, 27, 27, 28, 28, 29, 29, 30, 30, 31, 31, 32, 32, 33, 33, 34, 34,\n",
       "        35, 35, 36, 36, 37, 37, 38, 38, 39, 39, 40, 40, 41, 41, 42, 42, 43,\n",
       "        43, 44, 44, 45, 45, 46, 46, 47, 47, 48, 48, 49, 49, 50, 50, 51, 51,\n",
       "        52, 52, 53, 53, 54, 54, 55, 55, 56, 56, 57, 57, 58, 58, 59, 59, 60,\n",
       "        60, 61, 61, 62, 62, 63, 63, 64, 64, 65, 65, 66, 66, 67, 67, 68, 68,\n",
       "        69, 69, 70, 70, 71, 71, 72, 72, 73, 73, 74, 74, 75, 75, 76, 76, 77,\n",
       "        77, 78, 78, 79, 79, 80, 80, 81, 81, 82, 82]),\n",
       " array([ 99, 100,  99, 100,  99, 100,  99, 100,  99, 100,  99, 100,  99,\n",
       "        100,  99, 100,  99, 100,  99, 100,  99, 100,  99, 100,  99, 100,\n",
       "         99, 100,  99, 100,  99, 100,  99, 100,  99, 100,  99, 100,  99,\n",
       "        100,  99, 100,  99, 100,  99, 100,  99, 100,  99, 100,  99, 100,\n",
       "         99, 100,  99, 100,  99, 100,  99, 100,  99, 100,  99, 100,  99,\n",
       "        100,  99, 100,  99, 100,  99, 100,  99, 100,  99, 100,  99, 100,\n",
       "         99, 100,  99, 100,  99, 100,  99, 100,  99, 100,  99, 100,  99,\n",
       "        100,  99, 100,  99, 100,  99, 100,  99, 100,  99, 100,  99, 100,\n",
       "         99, 100,  99, 100,  99, 100,  99, 100,  99, 100,  99, 100,  99,\n",
       "        100,  99, 100,  99, 100,  99, 100,  99, 100,  99, 100,  99, 100]))"
      ]
     },
     "execution_count": 13,
     "metadata": {},
     "output_type": "execute_result"
    }
   ],
   "source": [
    "np.where(temp == temp.min())"
   ]
  },
  {
   "cell_type": "code",
   "execution_count": 14,
   "metadata": {
    "collapsed": true
   },
   "outputs": [],
   "source": [
    "plt.imshow(temp[239], vmin=302, vmax=310, cmap='jet')\n",
    "plt.colorbar()\n",
    "plt.xticks([])\n",
    "plt.yticks([])\n",
    "plt.savefig(os.path.join(out_dir, 'temp_48.png'), dpi=300)\n",
    "plt.close()"
   ]
  },
  {
   "cell_type": "markdown",
   "metadata": {
    "collapsed": true
   },
   "source": [
    "### 温度分布拡大"
   ]
  },
  {
   "cell_type": "code",
   "execution_count": 11,
   "metadata": {
    "collapsed": true
   },
   "outputs": [],
   "source": [
    "temp = np.zeros((600, 200, 200))\n",
    "for i in range(600):\n",
    "    num = \"{0:04d}\".format(i)\n",
    "    temp[i, :, :] = np.load('/mnt/recordings/SimulationResults/2D/20171108-48/cell_%s/temp.npy'%num).reshape((200,200))"
   ]
  },
  {
   "cell_type": "code",
   "execution_count": 15,
   "metadata": {},
   "outputs": [
    {
     "data": {
      "text/plain": [
       "<matplotlib.image.AxesImage at 0x7f2cebd90690>"
      ]
     },
     "execution_count": 15,
     "metadata": {},
     "output_type": "execute_result"
    },
    {
     "data": {
      "image/png": "[encoded data removed]",
      "text/plain": [
       "<matplotlib.figure.Figure at 0x7f2cebe53550>"
      ]
     },
     "metadata": {},
     "output_type": "display_data"
    }
   ],
   "source": [
    "plt.imshow(temp[180, 0:30, 85:115], cmap='jet')"
   ]
  },
  {
   "cell_type": "code",
   "execution_count": 19,
   "metadata": {},
   "outputs": [
    {
     "data": {
      "text/plain": [
       "<matplotlib.colorbar.Colorbar at 0x7f2cebb2d690>"
      ]
     },
     "execution_count": 19,
     "metadata": {},
     "output_type": "execute_result"
    },
    {
     "data": {
      "image/png": "[encoded data removed]",
      "text/plain": [
       "<matplotlib.figure.Figure at 0x7f2cebc90a10>"
      ]
     },
     "metadata": {},
     "output_type": "display_data"
    }
   ],
   "source": [
    "plt.imshow(temp[300, 0:30, 85:115], cmap='jet')\n",
    "plt.colorbar()"
   ]
  },
  {
   "cell_type": "code",
   "execution_count": 24,
   "metadata": {
    "collapsed": true
   },
   "outputs": [],
   "source": [
    "plt.imshow(temp[480, 0:50, 75:125], cmap='jet')\n",
    "plt.xticks([])\n",
    "plt.yticks([])\n",
    "plt.colorbar()\n",
    "plt.savefig('/mnt/recordings/AnalysisResult/Seno/simulation/Mahajan/20171113/temp_closeup.png', dpi=300)\n",
    "plt.close()"
   ]
  },
  {
   "cell_type": "code",
   "execution_count": 18,
   "metadata": {},
   "outputs": [
    {
     "data": {
      "text/plain": [
       "<matplotlib.image.AxesImage at 0x7f2cebbe5ed0>"
      ]
     },
     "execution_count": 18,
     "metadata": {},
     "output_type": "execute_result"
    },
    {
     "data": {
      "image/png": "[encoded data removed]",
      "text/plain": [
       "<matplotlib.figure.Figure at 0x7f2cebccb790>"
      ]
     },
     "metadata": {},
     "output_type": "display_data"
    }
   ],
   "source": [
    "plt.imshow(temp[540, 0:30, 85:115], cmap='jet')"
   ]
  },
  {
   "cell_type": "code",
   "execution_count": null,
   "metadata": {
    "collapsed": true
   },
   "outputs": [],
   "source": []
  }
 ],
 "metadata": {
  "kernelspec": {
   "display_name": "Python 2",
   "language": "python",
   "name": "python2"
  },
  "language_info": {
   "codemirror_mode": {
    "name": "ipython",
    "version": 2
   },
   "file_extension": ".py",
   "mimetype": "text/x-python",
   "name": "python",
   "nbconvert_exporter": "python",
   "pygments_lexer": "ipython2",
   "version": "2.7.13"
  }
 },
 "nbformat": 4,
 "nbformat_minor": 2
}
