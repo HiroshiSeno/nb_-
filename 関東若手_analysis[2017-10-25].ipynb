{
 "cells": [
  {
   "cell_type": "code",
   "execution_count": 1,
   "metadata": {
    "collapsed": true
   },
   "outputs": [],
   "source": [
    "import numpy as np\n",
    "import matplotlib.pyplot as plt\n",
    "import matplotlib.cm as cm\n",
    "import os\n",
    "import subprocess\n",
    "%matplotlib inline"
   ]
  },
  {
   "cell_type": "markdown",
   "metadata": {},
   "source": [
    "# 興奮前面・興奮後面の可視化"
   ]
  },
  {
   "cell_type": "code",
   "execution_count": 2,
   "metadata": {
    "collapsed": true
   },
   "outputs": [],
   "source": [
    "out_dir = '/mnt/recordings/AnalysisResult/Seno/simulation/Mahajan/20171025'\n",
    "if not os.path.exists(out_dir):\n",
    "    os.makedirs(out_dir)"
   ]
  },
  {
   "cell_type": "code",
   "execution_count": 28,
   "metadata": {},
   "outputs": [
    {
     "name": "stdout",
     "output_type": "stream",
     "text": [
      "dir_name:20171014-40\n",
      "output figures:start\n",
      "dir_name:20171014-42\n",
      "output figures:start\n",
      "dir_name:20171014-46\n",
      "output figures:start\n",
      "dir_name:20171014-4\n",
      "output figures:start\n"
     ]
    },
    {
     "data": {
      "image/png": "[encoded data removed]",
      "text/plain": [
       "<matplotlib.figure.Figure at 0x7fc568a20c90>"
      ]
     },
     "metadata": {},
     "output_type": "display_data"
    }
   ],
   "source": [
    "dir_names = ['20171014-40', '20171014-42', '20171014-46', '20171014-4']\n",
    "width = 10\n",
    "\n",
    "for dir_name in dir_names:\n",
    "    print('dir_name:%s'%dir_name)\n",
    "    time = 1000\n",
    "    hj_array = np.zeros((time+1, 200, 200))\n",
    "    m_array = np.zeros((time+1, 200, 200))\n",
    "    Ina = np.zeros((time+1, 200, 200))\n",
    "    for i in range(time):\n",
    "        num = '{0:04d}'.format(i)\n",
    "        a = np.load('/mnt/recordings/SimulationResults/%s/cell_%s/%s' % (dir_name, num, 'h.npy')).reshape((200, 200))\n",
    "        b = np.load('/mnt/recordings/SimulationResults/%s/cell_%s/%s' % (dir_name, num, 'j.npy')).reshape((200, 200))\n",
    "        hj_array[i, :, :] = a*b\n",
    "        m_array[i, :, :] = np.load('/mnt/recordings/SimulationResults/%s/cell_%s/%s' % (dir_name, num, 'm.npy')).reshape((200, 200))\n",
    "        Ina[i, :, :] = np.load('/mnt/recordings/SimulationResults/%s/cell_%s/%s' % (dir_name, num, 'xina.npy')).reshape((200, 200))\n",
    "        \n",
    "    x = np.arange(200)\n",
    "    y = np.arange(200)\n",
    "    X, Y = np.meshgrid(x, y)\n",
    "\n",
    "    if not os.path.exists(os.path.join(out_dir, dir_name, 'contour')):\n",
    "        os.makedirs(os.path.join(out_dir, dir_name, 'contour'))\n",
    "\n",
    "    print('output figures:start')\n",
    "    for i in range(time):\n",
    "        if i < width+1:\n",
    "            continue\n",
    "\n",
    "        plt.clf()\n",
    "\n",
    "        im_out = np.ones([200, 200, 3], dtype=np.uint8)*255\n",
    "        im_out[:, :, 0] = 255\n",
    "        im_out[:, :, 1] = (1-(np.sum((Ina[i-width:i, :, :] < -1), axis=0) > 0))*255\n",
    "        im_out[:, :, 2] = (1-(np.sum((Ina[i-width:i, :, :] < -1), axis=0) > 0))*255\n",
    "\n",
    "        Z = hj_array[i,:,:] \n",
    "        #Z = Z[::-1, :]\n",
    "\n",
    "        plt.contour(X, Y, Z)\n",
    "        plt.imshow(im_out)\n",
    "        plt.xticks([])\n",
    "        plt.yticks([])\n",
    "        plt.gca().set_aspect('equal')\n",
    "        plt.savefig(os.path.join(out_dir, dir_name, 'contour/contour_{0:0>6}.png'.format(i-width-1)), dpi=300, transparent=True)"
   ]
  },
  {
   "cell_type": "markdown",
   "metadata": {},
   "source": [
    "# 温度分布再出力"
   ]
  },
  {
   "cell_type": "code",
   "execution_count": 33,
   "metadata": {},
   "outputs": [],
   "source": [
    "x = np.arange(0, 200, 1.0)\n",
    "\n",
    "omega = 3.0\n",
    "mean = 100.0\n",
    "y = np.exp((-(x-mean)*(x-mean))/(2*omega*omega))/np.sqrt(2*np.pi*omega*omega)\n",
    "y = 310 - y/np.max(y) * 8\n",
    "\n",
    "data = np.ones([200, 200])*310\n",
    "\n",
    "for i in range(100):\n",
    "    data[i, :] = y\n",
    "plt.imshow(data, cmap='jet')\n",
    "plt.xticks([])\n",
    "plt.yticks([])\n",
    "plt.savefig('/mnt/recordings/AnalysisResult/Seno/simulation/Mahajan/20171025/cooling_id42.png', dpi=300, transparent=True)\n",
    "plt.close()"
   ]
  },
  {
   "cell_type": "code",
   "execution_count": null,
   "metadata": {
    "collapsed": true
   },
   "outputs": [],
   "source": []
  }
 ],
 "metadata": {
  "kernelspec": {
   "display_name": "Python 2",
   "language": "python",
   "name": "python2"
  },
  "language_info": {
   "codemirror_mode": {
    "name": "ipython",
    "version": 2
   },
   "file_extension": ".py",
   "mimetype": "text/x-python",
   "name": "python",
   "nbconvert_exporter": "python",
   "pygments_lexer": "ipython2",
   "version": "2.7.13"
  }
 },
 "nbformat": 4,
 "nbformat_minor": 2
}
