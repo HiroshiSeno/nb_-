{
 "cells": [
  {
   "cell_type": "code",
   "execution_count": 2,
   "metadata": {
    "collapsed": true
   },
   "outputs": [],
   "source": [
    "import numpy as np\n",
    "import matplotlib.pyplot as plt\n",
    "import os\n",
    "import subprocess\n",
    "import glob\n",
    "import cv2\n",
    "#import seaborn as sns\n",
    "%matplotlib inline"
   ]
  },
  {
   "cell_type": "code",
   "execution_count": 3,
   "metadata": {
    "collapsed": true
   },
   "outputs": [],
   "source": [
    "from opmap.RawCam import RawCam\n",
    "from opmap.VmemMap import VmemMap\n",
    "from opmap.PhaseMap import PhaseMap\n",
    "from opmap.PhaseVarianceMap import PhaseVarianceMap\n",
    "from opmap.util import makeMovie"
   ]
  },
  {
   "cell_type": "code",
   "execution_count": 4,
   "metadata": {
    "collapsed": true
   },
   "outputs": [],
   "source": [
    "import sys\n",
    "reload(sys)\n",
    "sys.setdefaultencoding(\"utf-8\")"
   ]
  },
  {
   "cell_type": "markdown",
   "metadata": {},
   "source": [
    "# 興奮前面・興奮後面マップを拡大"
   ]
  },
  {
   "cell_type": "code",
   "execution_count": 12,
   "metadata": {
    "collapsed": true
   },
   "outputs": [],
   "source": [
    "dir_names = ['20171025-1']\n",
    "\n",
    "for dir_name in dir_names:\n",
    "    time = 1000\n",
    "    width = 5\n",
    "    threshold = 0.01\n",
    "    Ina = np.zeros((time, 200, 200))\n",
    "    hj = np.zeros((time, 200, 200))\n",
    "    save_dir = '/mnt/recordings/AnalysisResult/Seno/simulation/Mahajan/20171113'\n",
    "    \n",
    "    if not os.path.exists(os.path.join(save_dir, 'wf_wt', dir_name)):\n",
    "        os.makedirs(os.path.join(save_dir, 'wf_wt', dir_name))\n",
    "    \n",
    "    for i in range(time):\n",
    "        num = '{0:04d}'.format(i)\n",
    "        Ina[i, :, :] = np.load('/mnt/recordings/SimulationResults/2D/%s/cell_%s/%s' % (dir_name, num, 'xina.npy')).reshape((200, 200))\n",
    "        a = np.load('/mnt/recordings/SimulationResults/2D/%s/cell_%s/%s' % (dir_name, num, 'h.npy')).reshape((200, 200))\n",
    "        b = np.load('/mnt/recordings/SimulationResults/2D/%s/cell_%s/%s' % (dir_name, num, 'j.npy')).reshape((200, 200))\n",
    "        hj[i, :, :] = a*b\n",
    "    \n",
    "    for i in range(time):\n",
    "        if i < width+1:\n",
    "            continue\n",
    "        num = '{0:06d}'.format(i-width-1)\n",
    "        im_out = np.zeros([200, 200, 3], dtype=np.uint8)\n",
    "        ans = np.zeros((1,200, 200))\n",
    "        for j in range(width):\n",
    "            ans += ((hj[j-1-width+i:j-width+i, :, :] < threshold) * (hj[j-width+i:j+1-width+i, :, :] >= threshold))\n",
    "        im_out[:, :, 0] = (np.sum((Ina[i-width:i, :, :] < -1), axis=0) > 0)*255\n",
    "        im_out[:, :, 1] = ans[0, :, :]*255\n",
    "        im_out[:, :, 2] = ans[0, :, :]*255\n",
    "        plt.imshow(im_out[75:125, 80:130, :])\n",
    "        plt.text(2,6, \"%s (ms)\" % \"{0:04d}\".format(i-width-1), fontsize=17, color='w')\n",
    "        plt.xticks([])\n",
    "        plt.yticks([])\n",
    "        plt.savefig(os.path.join(save_dir, 'wf_wt/%s/%s.png' % (dir_name, num)))\n",
    "        plt.close()\n",
    "\n",
    "#    subprocess.call('ffmpeg -r 30 -y -i \"/mnt/recordings/AnalysisResult/Seno/simulation/Mahajan/20171106/threshold/{0}/%06d.png\" -c:v libx264 -pix_fmt yuv420p -qscale 0 \"/mnt/recordings/AnalysisResult/Seno/simulation/Mahajan/20171106/threshold/{0}.mp4\"'.format(dir_name), shell=True)"
   ]
  },
  {
   "cell_type": "code",
   "execution_count": 14,
   "metadata": {
    "collapsed": true
   },
   "outputs": [],
   "source": [
    "dir_names = ['20171108-46']\n",
    "\n",
    "for dir_name in dir_names:\n",
    "    time = 300\n",
    "    width = 5\n",
    "    threshold = 0.01\n",
    "    Ina = np.zeros((time, 200, 200))\n",
    "    hj = np.zeros((time, 200, 200))\n",
    "    save_dir = '/mnt/recordings/AnalysisResult/Seno/simulation/Mahajan/20171113'\n",
    "    \n",
    "    if not os.path.exists(os.path.join(save_dir, 'wf_wt', dir_name)):\n",
    "        os.makedirs(os.path.join(save_dir, 'wf_wt', dir_name))\n",
    "    \n",
    "    for i in range(time):\n",
    "        num = '{0:04d}'.format(i)\n",
    "        Ina[i, :, :] = np.load('/mnt/recordings/SimulationResults/2D/%s/cell_%s/%s' % (dir_name, num, 'xina.npy')).reshape((200, 200))\n",
    "        a = np.load('/mnt/recordings/SimulationResults/2D/%s/cell_%s/%s' % (dir_name, num, 'h.npy')).reshape((200, 200))\n",
    "        b = np.load('/mnt/recordings/SimulationResults/2D/%s/cell_%s/%s' % (dir_name, num, 'j.npy')).reshape((200, 200))\n",
    "        hj[i, :, :] = a*b\n",
    "    \n",
    "    for i in range(time):\n",
    "        if i < width+1:\n",
    "            continue\n",
    "        num = '{0:06d}'.format(i-width-1)\n",
    "        im_out = np.zeros([200, 200, 3], dtype=np.uint8)\n",
    "        ans = np.zeros((1,200, 200))\n",
    "        for j in range(width):\n",
    "            ans += ((hj[j-1-width+i:j-width+i, :, :] < threshold) * (hj[j-width+i:j+1-width+i, :, :] >= threshold))\n",
    "        im_out[:, :, 0] = (np.sum((Ina[i-width:i, :, :] < -1), axis=0) > 0)*255\n",
    "        im_out[:, :, 1] = ans[0, :, :]*255\n",
    "        im_out[:, :, 2] = ans[0, :, :]*255\n",
    "        plt.imshow(im_out[75:125, 90:140, :])\n",
    "        plt.text(2,6, \"%s (ms)\" % \"{0:04d}\".format(i-width-1), fontsize=17, color='w')\n",
    "        plt.xticks([])\n",
    "        plt.yticks([])\n",
    "        plt.savefig(os.path.join(save_dir, 'wf_wt/%s/%s.png' % (dir_name, num)))\n",
    "        plt.close()"
   ]
  },
  {
   "cell_type": "code",
   "execution_count": 9,
   "metadata": {},
   "outputs": [],
   "source": [
    "dir_names = ['20171108-48']\n",
    "\n",
    "for dir_name in dir_names:\n",
    "    time = 600\n",
    "    width = 5\n",
    "    threshold = 0.01\n",
    "    Ina = np.zeros((time, 200, 200))\n",
    "    hj = np.zeros((time, 200, 200))\n",
    "    save_dir = '/mnt/recordings/AnalysisResult/Seno/simulation/Mahajan/20171113'\n",
    "    \n",
    "    if not os.path.exists(os.path.join(save_dir, 'wf_wt', dir_name)):\n",
    "        os.makedirs(os.path.join(save_dir, 'wf_wt', dir_name))\n",
    "    \n",
    "    for i in range(time):\n",
    "        num = '{0:04d}'.format(i)\n",
    "        Ina[i, :, :] = np.load('/mnt/recordings/SimulationResults/2D/%s/cell_%s/%s' % (dir_name, num, 'xina.npy')).reshape((200, 200))\n",
    "        a = np.load('/mnt/recordings/SimulationResults/2D/%s/cell_%s/%s' % (dir_name, num, 'h.npy')).reshape((200, 200))\n",
    "        b = np.load('/mnt/recordings/SimulationResults/2D/%s/cell_%s/%s' % (dir_name, num, 'j.npy')).reshape((200, 200))\n",
    "        hj[i, :, :] = a*b\n",
    "    \n",
    "    for i in range(time):\n",
    "        if i < width+1:\n",
    "            continue\n",
    "        num = '{0:06d}'.format(i-width-1)\n",
    "        im_out = np.zeros([200, 200, 3], dtype=np.uint8)\n",
    "        ans = np.zeros((1,200, 200))\n",
    "        for j in range(width):\n",
    "            ans += ((hj[j-1-width+i:j-width+i, :, :] < threshold) * (hj[j-width+i:j+1-width+i, :, :] >= threshold))\n",
    "        im_out[:, :, 0] = (np.sum((Ina[i-width:i, :, :] < -1), axis=0) > 0)*255\n",
    "        im_out[:, :, 1] = ans[0, :, :]*255\n",
    "        im_out[:, :, 2] = ans[0, :, :]*255\n",
    "        plt.imshow(im_out[0:50, 75:125, :])\n",
    "        plt.text(2,3, \"%s (ms)\" % \"{0:04d}\".format(i-width-1), fontsize=17, color='w')\n",
    "        plt.xticks([])\n",
    "        plt.yticks([])\n",
    "        plt.savefig(os.path.join(save_dir, 'wf_wt/%s/%s.png' % (dir_name, num)))\n",
    "        plt.close()"
   ]
  },
  {
   "cell_type": "code",
   "execution_count": null,
   "metadata": {
    "collapsed": true
   },
   "outputs": [],
   "source": []
  }
 ],
 "metadata": {
  "kernelspec": {
   "display_name": "Python 2",
   "language": "python",
   "name": "python2"
  },
  "language_info": {
   "codemirror_mode": {
    "name": "ipython",
    "version": 2
   },
   "file_extension": ".py",
   "mimetype": "text/x-python",
   "name": "python",
   "nbconvert_exporter": "python",
   "pygments_lexer": "ipython2",
   "version": "2.7.13"
  }
 },
 "nbformat": 4,
 "nbformat_minor": 2
}
