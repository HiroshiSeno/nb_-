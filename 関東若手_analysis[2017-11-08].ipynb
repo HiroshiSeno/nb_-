{
 "cells": [
  {
   "cell_type": "code",
   "execution_count": 1,
   "metadata": {
    "collapsed": true
   },
   "outputs": [],
   "source": [
    "import numpy as np\n",
    "import matplotlib.pyplot as plt\n",
    "import os\n",
    "import subprocess\n",
    "import glob\n",
    "import cv2\n",
    "#import seaborn as sns\n",
    "%matplotlib inline"
   ]
  },
  {
   "cell_type": "code",
   "execution_count": 2,
   "metadata": {
    "collapsed": true
   },
   "outputs": [],
   "source": [
    "from opmap.RawCam import RawCam\n",
    "from opmap.VmemMap import VmemMap\n",
    "from opmap.PhaseMap import PhaseMap\n",
    "from opmap.PhaseVarianceMap import PhaseVarianceMap\n",
    "from opmap.util import makeMovie"
   ]
  },
  {
   "cell_type": "code",
   "execution_count": 3,
   "metadata": {
    "collapsed": true
   },
   "outputs": [],
   "source": [
    "import sys\n",
    "reload(sys)\n",
    "sys.setdefaultencoding(\"utf-8\")"
   ]
  },
  {
   "cell_type": "markdown",
   "metadata": {},
   "source": [
    "# 興奮前面・興奮後面マップを拡大"
   ]
  },
  {
   "cell_type": "code",
   "execution_count": 1,
   "metadata": {},
   "outputs": [
    {
     "ename": "NameError",
     "evalue": "name 'np' is not defined",
     "output_type": "error",
     "traceback": [
      "\u001b[0;31m\u001b[0m",
      "\u001b[0;31mNameError\u001b[0mTraceback (most recent call last)",
      "\u001b[0;32m<ipython-input-1-68a02539ddbe>\u001b[0m in \u001b[0;36m<module>\u001b[0;34m()\u001b[0m\n\u001b[1;32m      5\u001b[0m     \u001b[0mwidth\u001b[0m \u001b[0;34m=\u001b[0m \u001b[0;36m5\u001b[0m\u001b[0;34m\u001b[0m\u001b[0m\n\u001b[1;32m      6\u001b[0m     \u001b[0mthreshold\u001b[0m \u001b[0;34m=\u001b[0m \u001b[0;36m0.01\u001b[0m\u001b[0;34m\u001b[0m\u001b[0m\n\u001b[0;32m----> 7\u001b[0;31m     \u001b[0mIna\u001b[0m \u001b[0;34m=\u001b[0m \u001b[0mnp\u001b[0m\u001b[0;34m.\u001b[0m\u001b[0mzeros\u001b[0m\u001b[0;34m(\u001b[0m\u001b[0;34m(\u001b[0m\u001b[0mtime\u001b[0m\u001b[0;34m,\u001b[0m \u001b[0;36m200\u001b[0m\u001b[0;34m,\u001b[0m \u001b[0;36m200\u001b[0m\u001b[0;34m)\u001b[0m\u001b[0;34m)\u001b[0m\u001b[0;34m\u001b[0m\u001b[0m\n\u001b[0m\u001b[1;32m      8\u001b[0m     \u001b[0mhj\u001b[0m \u001b[0;34m=\u001b[0m \u001b[0mnp\u001b[0m\u001b[0;34m.\u001b[0m\u001b[0mzeros\u001b[0m\u001b[0;34m(\u001b[0m\u001b[0;34m(\u001b[0m\u001b[0mtime\u001b[0m\u001b[0;34m,\u001b[0m \u001b[0;36m200\u001b[0m\u001b[0;34m,\u001b[0m \u001b[0;36m200\u001b[0m\u001b[0;34m)\u001b[0m\u001b[0;34m)\u001b[0m\u001b[0;34m\u001b[0m\u001b[0m\n\u001b[1;32m      9\u001b[0m     \u001b[0msave_dir\u001b[0m \u001b[0;34m=\u001b[0m \u001b[0;34m'/mnt/recordings/AnalysisResult/Seno/simulation/Mahajan/20171113'\u001b[0m\u001b[0;34m\u001b[0m\u001b[0m\n",
      "\u001b[0;31mNameError\u001b[0m: name 'np' is not defined"
     ]
    }
   ],
   "source": [
    "dir_names = ['20171025-1']\n",
    "\n",
    "for dir_name in dir_names:\n",
    "    time = 1000\n",
    "    width = 5\n",
    "    threshold = 0.01\n",
    "    Ina = np.zeros((time, 200, 200))\n",
    "    hj = np.zeros((time, 200, 200))\n",
    "    save_dir = '/mnt/recordings/AnalysisResult/Seno/simulation/Mahajan/20171113'\n",
    "    \n",
    "    if not os.path.exists(os.path.join(save_dir, 'wf_wt', dir_name)):\n",
    "        os.makedirs(os.path.join(save_dir, 'wf_wt', dir_name))\n",
    "    \n",
    "    for i in range(time):\n",
    "        num = '{0:04d}'.format(i)\n",
    "        Ina[i, :, :] = np.load('/mnt/recordings/SimulationResults/2D/%s/cell_%s/%s' % (dir_name, num, 'xina.npy')).reshape((200, 200))\n",
    "        a = np.load('/mnt/recordings/SimulationResults/2D/%s/cell_%s/%s' % (dir_name, num, 'h.npy')).reshape((200, 200))\n",
    "        b = np.load('/mnt/recordings/SimulationResults/2D/%s/cell_%s/%s' % (dir_name, num, 'j.npy')).reshape((200, 200))\n",
    "        hj[i, :, :] = a*b\n",
    "    \n",
    "    for i in range(time):\n",
    "        if i < width+1:\n",
    "            continue\n",
    "        num = '{0:06d}'.format(i-width-1)\n",
    "        im_out = np.zeros([200, 200, 3], dtype=np.uint8)\n",
    "        ans = np.zeros((1,200, 200))\n",
    "        for j in range(width):\n",
    "            ans += ((hj[j-1-width+i:j-width+i, :, :] < threshold) * (hj[j-width+i:j+1-width+i, :, :] >= threshold))\n",
    "        im_out[:, :, 0] = (np.sum((Ina[i-width:i, :, :] < -1), axis=0) > 0)*255\n",
    "        im_out[:, :, 1] = ans[0, :, :]*255\n",
    "        im_out[:, :, 2] = ans[0, :, :]*255\n",
    "        plt.imshow(im_out[75:125, 100:150, :])\n",
    "        plt.text(5,10, \"%s (ms)\" % \"{0:04d}\".format(i-width-1), fontsize=17, color='w')\n",
    "        plt.xticks([])\n",
    "        plt.yticks([])\n",
    "        plt.savefig(os.path.join(save_dir, 'wf_wt/%s/%s.png' % (dir_name, num)))\n",
    "        plt.close()\n",
    "    \n",
    "#    subprocess.call('ffmpeg -r 30 -y -i \"/mnt/recordings/AnalysisResult/Seno/simulation/Mahajan/20171106/threshold/{0}/%06d.png\" -c:v libx264 -pix_fmt yuv420p -qscale 0 \"/mnt/recordings/AnalysisResult/Seno/simulation/Mahajan/20171106/threshold/{0}.mp4\"'.format(dir_name), shell=True)"
   ]
  },
  {
   "cell_type": "code",
   "execution_count": null,
   "metadata": {
    "collapsed": true
   },
   "outputs": [],
   "source": []
  }
 ],
 "metadata": {
  "kernelspec": {
   "display_name": "Python 2",
   "language": "python",
   "name": "python2"
  },
  "language_info": {
   "codemirror_mode": {
    "name": "ipython",
    "version": 2
   },
   "file_extension": ".py",
   "mimetype": "text/x-python",
   "name": "python",
   "nbconvert_exporter": "python",
   "pygments_lexer": "ipython2",
   "version": "2.7.13"
  }
 },
 "nbformat": 4,
 "nbformat_minor": 2
}
