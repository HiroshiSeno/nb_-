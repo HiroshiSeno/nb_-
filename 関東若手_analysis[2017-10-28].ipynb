{
 "cells": [
  {
   "cell_type": "code",
   "execution_count": 42,
   "metadata": {
    "collapsed": true
   },
   "outputs": [],
   "source": [
    "import numpy as np\n",
    "import matplotlib.pyplot as plt\n",
    "import os\n",
    "import subprocess\n",
    "import glob\n",
    "%matplotlib inline"
   ]
  },
  {
   "cell_type": "markdown",
   "metadata": {
    "collapsed": true
   },
   "source": [
    "# 冷却温度分布のシミュレーション"
   ]
  },
  {
   "cell_type": "code",
   "execution_count": 99,
   "metadata": {},
   "outputs": [],
   "source": [
    "size = 100\n",
    "temp_all = np.zeros((size*size, 20000))\n",
    "temp_all[:,0]  = (np.ones((size, size)) * 310).flatten()\n",
    "delta_t = 0.001 #1ms\n",
    "alpha = 0.0000001466 #水の熱拡散係数\n",
    "rho_c = 4200000\n",
    "cell_height = 0.00015"
   ]
  },
  {
   "cell_type": "code",
   "execution_count": 100,
   "metadata": {},
   "outputs": [],
   "source": [
    "h = 290 #W/(m^2 K)\n",
    "target_temp = np.ones((size, size)) * 310\n",
    "target_temp[size/2-2:size/2+2, size/2-1:] = 304\n",
    "target_temp = target_temp.flatten()"
   ]
  },
  {
   "cell_type": "code",
   "execution_count": 101,
   "metadata": {
    "collapsed": true
   },
   "outputs": [],
   "source": [
    "small_mat = np.identity(size)*(-4)+np.tri(size,size,-1)-np.tri(size,size,-2)-np.tri(size,size,0)+np.tri(size,size,1)\n",
    "def_mat = np.zeros((size*size, size*size))\n",
    "for i in range(size):\n",
    "    for j in range(size):\n",
    "        if i == j:\n",
    "            def_mat[size*i:size*(i+1), size*j:size*(j+1)] = small_mat\n",
    "        if i-j == 1 or i-j == -1:\n",
    "            def_mat[size*i:size*(i+1), size*j:size*(j+1)] = np.identity(size)"
   ]
  },
  {
   "cell_type": "code",
   "execution_count": 98,
   "metadata": {},
   "outputs": [],
   "source": [
    "plt.imshow((target_temp).reshape((size, size)), cmap='jet')\n",
    "plt.colorbar()\n",
    "plt.savefig('/mnt/recordings/AnalysisResult/Seno/simulation/Mahajan/20171028/temp.png', dpi=300, transparent=True)\n",
    "plt.close()"
   ]
  },
  {
   "cell_type": "code",
   "execution_count": 102,
   "metadata": {},
   "outputs": [
    {
     "name": "stdout",
     "output_type": "stream",
     "text": [
      "0\n",
      "1000\n",
      "2000\n",
      "3000\n",
      "4000\n",
      "5000\n",
      "6000\n",
      "7000\n",
      "8000\n",
      "9000\n",
      "10000\n",
      "11000\n",
      "12000\n",
      "13000\n",
      "14000\n",
      "15000\n",
      "16000\n",
      "17000\n",
      "18000\n",
      "19000\n"
     ]
    },
    {
     "ename": "IndexError",
     "evalue": "index 20000 is out of bounds for axis 1 with size 20000",
     "output_type": "error",
     "traceback": [
      "\u001b[0;31m\u001b[0m",
      "\u001b[0;31mIndexError\u001b[0mTraceback (most recent call last)",
      "\u001b[0;32m<ipython-input-102-bf0976576cfd>\u001b[0m in \u001b[0;36m<module>\u001b[0;34m()\u001b[0m\n\u001b[1;32m      9\u001b[0m     \u001b[0mtemp\u001b[0m\u001b[0;34m[\u001b[0m\u001b[0;34m:\u001b[0m\u001b[0;34m,\u001b[0m\u001b[0;36m0\u001b[0m\u001b[0;34m]\u001b[0m \u001b[0;34m=\u001b[0m \u001b[0;36m310\u001b[0m\u001b[0;34m\u001b[0m\u001b[0m\n\u001b[1;32m     10\u001b[0m     \u001b[0mtemp\u001b[0m\u001b[0;34m[\u001b[0m\u001b[0;34m:\u001b[0m\u001b[0;34m,\u001b[0m \u001b[0;34m-\u001b[0m\u001b[0;36m1\u001b[0m\u001b[0;34m]\u001b[0m \u001b[0;34m=\u001b[0m \u001b[0;36m310\u001b[0m\u001b[0;34m\u001b[0m\u001b[0m\n\u001b[0;32m---> 11\u001b[0;31m     \u001b[0mtemp_all\u001b[0m\u001b[0;34m[\u001b[0m\u001b[0;34m:\u001b[0m\u001b[0;34m,\u001b[0m \u001b[0mnum\u001b[0m\u001b[0;34m+\u001b[0m\u001b[0;36m1\u001b[0m\u001b[0;34m]\u001b[0m \u001b[0;34m=\u001b[0m \u001b[0mtemp\u001b[0m\u001b[0;34m.\u001b[0m\u001b[0mflatten\u001b[0m\u001b[0;34m(\u001b[0m\u001b[0;34m)\u001b[0m\u001b[0;34m\u001b[0m\u001b[0m\n\u001b[0m\u001b[1;32m     12\u001b[0m     \u001b[0mnum\u001b[0m \u001b[0;34m+=\u001b[0m \u001b[0;36m1\u001b[0m\u001b[0;34m\u001b[0m\u001b[0m\n",
      "\u001b[0;31mIndexError\u001b[0m: index 20000 is out of bounds for axis 1 with size 20000"
     ]
    }
   ],
   "source": [
    "num = 0\n",
    "while num < 20000:\n",
    "    if num % 1000 == 0:\n",
    "        print(num)\n",
    "    temp = temp_all[:, num] + alpha/delta_t*np.dot(def_mat, temp_all[:, num])+delta_t/rho_c/cell_height*h*(target_temp-temp_all[:, num])\n",
    "    temp = temp.reshape((size, size))\n",
    "    temp[0,:] = 310\n",
    "    temp[-1,:] = 310\n",
    "    temp[:,0] = 310\n",
    "    temp[:, -1] = 310\n",
    "    temp_all[:, num+1] = temp.flatten()\n",
    "    num += 1"
   ]
  },
  {
   "cell_type": "code",
   "execution_count": 83,
   "metadata": {},
   "outputs": [
    {
     "data": {
      "text/plain": [
       "<matplotlib.colorbar.Colorbar at 0x7fe1e9800ad0>"
      ]
     },
     "execution_count": 83,
     "metadata": {},
     "output_type": "execute_result"
    },
    {
     "data": {
      "image/png": "[encoded data removed]",
      "text/plain": [
       "<matplotlib.figure.Figure at 0x7fe1e9ee7c10>"
      ]
     },
     "metadata": {},
     "output_type": "display_data"
    }
   ],
   "source": [
    "time = 15000\n",
    "plt.imshow(temp_all[:, time].reshape((size, size)), vmin=np.min(temp_all), vmax=np.max(temp_all), cmap='jet')\n",
    "plt.text(4,12,\"%s (ms)\" % \"{0:05d}\".format(time),fontsize=18)\n",
    "plt.colorbar()"
   ]
  },
  {
   "cell_type": "code",
   "execution_count": 103,
   "metadata": {
    "collapsed": true
   },
   "outputs": [],
   "source": [
    "output_dir = '/mnt/recordings/AnalysisResult/Seno/simulation/Mahajan/20171028/temp_1'\n",
    "if not os.path.exists(output_dir):\n",
    "    os.makedirs(output_dir)"
   ]
  },
  {
   "cell_type": "code",
   "execution_count": 104,
   "metadata": {},
   "outputs": [],
   "source": [
    "for i in range(200):\n",
    "    time = 100*i\n",
    "    plt.imshow(temp_all[:, time].reshape((size, size)), vmin=np.min(temp_all), vmax=np.max(temp_all), cmap='jet')\n",
    "    plt.text(4,12,\"%s (ms)\" % \"{0:05d}\".format(time),fontsize=18)\n",
    "    plt.colorbar()\n",
    "    plt.savefig(os.path.join(output_dir, '%s.png'%'{0:04d}'.format(i)), dpi=300, transparent=True)\n",
    "    plt.close()"
   ]
  },
  {
   "cell_type": "code",
   "execution_count": 105,
   "metadata": {},
   "outputs": [
    {
     "data": {
      "text/plain": [
       "0"
      ]
     },
     "execution_count": 105,
     "metadata": {},
     "output_type": "execute_result"
    }
   ],
   "source": [
    "subprocess.call('ffmpeg -r 30 -y -i \"{0}/%04d.png\" -c:v libx264 -pix_fmt yuv420p -qscale 0 \"{0}/movie.mp4\"'.format(output_dir), shell=True)"
   ]
  },
  {
   "cell_type": "code",
   "execution_count": null,
   "metadata": {
    "collapsed": true
   },
   "outputs": [],
   "source": []
  }
 ],
 "metadata": {
  "kernelspec": {
   "display_name": "Python 2",
   "language": "python",
   "name": "python2"
  },
  "language_info": {
   "codemirror_mode": {
    "name": "ipython",
    "version": 2
   },
   "file_extension": ".py",
   "mimetype": "text/x-python",
   "name": "python",
   "nbconvert_exporter": "python",
   "pygments_lexer": "ipython2",
   "version": "2.7.13"
  }
 },
 "nbformat": 4,
 "nbformat_minor": 2
}
