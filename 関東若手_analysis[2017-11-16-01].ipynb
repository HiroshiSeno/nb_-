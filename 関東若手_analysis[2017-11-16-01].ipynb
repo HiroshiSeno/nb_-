{
 "cells": [
  {
   "cell_type": "code",
   "execution_count": 20,
   "metadata": {
    "collapsed": true
   },
   "outputs": [],
   "source": [
    "import numpy as np\n",
    "import matplotlib.pyplot as plt\n",
    "import matplotlib.cm as cm\n",
    "import os\n",
    "import subprocess\n",
    "import cv2\n",
    "%matplotlib inline"
   ]
  },
  {
   "cell_type": "code",
   "execution_count": 21,
   "metadata": {
    "collapsed": true
   },
   "outputs": [],
   "source": [
    "from opmap.RawCam import RawCam\n",
    "from opmap.VmemMap import VmemMap\n",
    "from opmap.PhaseMap import PhaseMap\n",
    "from opmap.PhaseVarianceMap import PhaseVarianceMap\n",
    "from opmap.util import makeMovie"
   ]
  },
  {
   "cell_type": "markdown",
   "metadata": {},
   "source": [
    "# スライド用画像作成"
   ]
  },
  {
   "cell_type": "markdown",
   "metadata": {},
   "source": [
    "## 旋回中心と温度分布の混合"
   ]
  },
  {
   "cell_type": "code",
   "execution_count": 22,
   "metadata": {
    "collapsed": true
   },
   "outputs": [],
   "source": [
    "directories = ['20171108-37', '20171108-40', '20171108-43', '20171108-46']"
   ]
  },
  {
   "cell_type": "code",
   "execution_count": 43,
   "metadata": {},
   "outputs": [
    {
     "name": "stdout",
     "output_type": "stream",
     "text": [
      "20171108-37\n",
      "20171108-40\n",
      "20171108-43\n",
      "20171108-46\n"
     ]
    }
   ],
   "source": [
    "for directory in directories:\n",
    "    print(directory)\n",
    "    out_dir = '/mnt/recordings/AnalysisResult/Seno/simulation/Mahajan/20171116/pvmap_temp/%s'%directory\n",
    "    if not os.path.exists(out_dir):\n",
    "        os.makedirs(out_dir)\n",
    "    \n",
    "    vmem = RawCam('/mnt/recordings/SimulationResults/2D/%s/'%directory, cam_type='numpy',\n",
    "           image_width=200, image_height=200, frame_start=0, frame_end=-1)\n",
    "    vmem_temp = VmemMap(vmem)\n",
    "    vmem.cmap = vmem_temp.cmap\n",
    "    \n",
    "    pmap = PhaseMap(vmem, shrink=2)\n",
    "    pvmap = PhaseVarianceMap(pmap, size=3)\n",
    "    \n",
    "    for i in range(1000):\n",
    "        num = \"{0:04d}\".format(i)\n",
    "        temp = np.load('/mnt/recordings/SimulationResults/2D/%s/cell_%s/temp.npy' % (directory, num)).reshape((200,200))\n",
    "        plt.imshow(temp, cmap='jet', alpha=0.5, vmin=302, vmax=310)\n",
    "        #plt.imshow(cv2.resize((pvmap.data[i, :, :]>0.4).astype(np.uint8), (200,200)), cmap=pvmap.cmap, alpha=0.5, vmin=0, vmax=1)\n",
    "        plt.imshow(cv2.resize(pvmap.data[i, :, :], (200,200)), cmap=pvmap.cmap, alpha=0.5, vmin=0, vmax=1)\n",
    "        plt.xticks([])\n",
    "        plt.yticks([])\n",
    "        plt.text(6,16,\"%s (ms)\"% num,fontsize=16, color='white')\n",
    "\n",
    "        plt.savefig('/mnt/recordings/AnalysisResult/Seno/simulation/Mahajan/20171116/pvmap_temp/%s/%s.png' % (directory, num), dpi=300)\n",
    "        plt.close()\n",
    "    \n",
    "    subprocess.call('ffmpeg -r 50 -y -i \"/mnt/recordings/AnalysisResult/Seno/simulation/Mahajan/20171116/pvmap_temp/{0}/%04d.png\" -c:v libx264 -pix_fmt yuv420p -qscale 0 \"/mnt/recordings/AnalysisResult/Seno/simulation/Mahajan/20171116/pvmap_temp/{0}.mp4\"'.format(directory), shell=True)"
   ]
  },
  {
   "cell_type": "code",
   "execution_count": null,
   "metadata": {
    "collapsed": true
   },
   "outputs": [],
   "source": []
  }
 ],
 "metadata": {
  "kernelspec": {
   "display_name": "Python 2",
   "language": "python",
   "name": "python2"
  },
  "language_info": {
   "codemirror_mode": {
    "name": "ipython",
    "version": 2
   },
   "file_extension": ".py",
   "mimetype": "text/x-python",
   "name": "python",
   "nbconvert_exporter": "python",
   "pygments_lexer": "ipython2",
   "version": "2.7.13"
  }
 },
 "nbformat": 4,
 "nbformat_minor": 2
}
