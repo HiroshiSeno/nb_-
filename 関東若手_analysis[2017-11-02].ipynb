{
 "cells": [
  {
   "cell_type": "code",
   "execution_count": 1,
   "metadata": {
    "collapsed": true
   },
   "outputs": [],
   "source": [
    "import numpy as np\n",
    "import matplotlib.pyplot as plt\n",
    "import os\n",
    "import subprocess\n",
    "import glob\n",
    "import cv2\n",
    "#import seaborn as sns\n",
    "%matplotlib inline"
   ]
  },
  {
   "cell_type": "code",
   "execution_count": 2,
   "metadata": {
    "collapsed": true
   },
   "outputs": [],
   "source": [
    "from opmap.RawCam import RawCam\n",
    "from opmap.VmemMap import VmemMap\n",
    "from opmap.PhaseMap import PhaseMap\n",
    "from opmap.PhaseVarianceMap import PhaseVarianceMap\n",
    "from opmap.util import makeMovie"
   ]
  },
  {
   "cell_type": "code",
   "execution_count": 3,
   "metadata": {
    "collapsed": true
   },
   "outputs": [],
   "source": [
    "import sys\n",
    "reload(sys)\n",
    "sys.setdefaultencoding(\"utf-8\")"
   ]
  },
  {
   "cell_type": "markdown",
   "metadata": {
    "collapsed": true
   },
   "source": [
    "# 興奮前面・後面解析"
   ]
  },
  {
   "cell_type": "code",
   "execution_count": 4,
   "metadata": {
    "collapsed": true
   },
   "outputs": [],
   "source": [
    "out_dir = '/mnt/recordings/AnalysisResult/Seno/simulation/Mahajan/20171102'\n",
    "if not os.path.exists(out_dir):\n",
    "    os.makedirs(out_dir)"
   ]
  },
  {
   "cell_type": "code",
   "execution_count": null,
   "metadata": {},
   "outputs": [
    {
     "ename": "OSError",
     "evalue": "[Errno 12] Cannot allocate memory",
     "output_type": "error",
     "traceback": [
      "\u001b[0;31m\u001b[0m",
      "\u001b[0;31mOSError\u001b[0mTraceback (most recent call last)",
      "\u001b[0;32m<ipython-input-22-47ecef47532f>\u001b[0m in \u001b[0;36m<module>\u001b[0;34m()\u001b[0m\n\u001b[1;32m     59\u001b[0m     \u001b[0mpic_dir\u001b[0m \u001b[0;34m=\u001b[0m \u001b[0mos\u001b[0m\u001b[0;34m.\u001b[0m\u001b[0mpath\u001b[0m\u001b[0;34m.\u001b[0m\u001b[0mjoin\u001b[0m\u001b[0;34m(\u001b[0m\u001b[0mout_dir\u001b[0m\u001b[0;34m,\u001b[0m \u001b[0;34m'%s/integrate'\u001b[0m\u001b[0;34m%\u001b[0m\u001b[0mdir_name\u001b[0m\u001b[0;34m)\u001b[0m\u001b[0;34m\u001b[0m\u001b[0m\n\u001b[1;32m     60\u001b[0m     \u001b[0mmov_dir\u001b[0m \u001b[0;34m=\u001b[0m \u001b[0mos\u001b[0m\u001b[0;34m.\u001b[0m\u001b[0mpath\u001b[0m\u001b[0;34m.\u001b[0m\u001b[0mjoin\u001b[0m\u001b[0;34m(\u001b[0m\u001b[0mout_dir\u001b[0m\u001b[0;34m,\u001b[0m \u001b[0;34m'%s'\u001b[0m\u001b[0;34m%\u001b[0m\u001b[0mdir_name\u001b[0m\u001b[0;34m)\u001b[0m\u001b[0;34m\u001b[0m\u001b[0m\n\u001b[0;32m---> 61\u001b[0;31m     \u001b[0msubprocess\u001b[0m\u001b[0;34m.\u001b[0m\u001b[0mcall\u001b[0m\u001b[0;34m(\u001b[0m\u001b[0;34m'ffmpeg -r 15 -y -i \"{0}/%04d.png\" -c:v libx264 -pix_fmt yuv420p -qscale 0 \"{1}/integrate.mp4\"'\u001b[0m\u001b[0;34m.\u001b[0m\u001b[0mformat\u001b[0m\u001b[0;34m(\u001b[0m\u001b[0mpic_dir\u001b[0m\u001b[0;34m,\u001b[0m \u001b[0mmov_dir\u001b[0m\u001b[0;34m)\u001b[0m\u001b[0;34m,\u001b[0m \u001b[0mshell\u001b[0m\u001b[0;34m=\u001b[0m\u001b[0mTrue\u001b[0m\u001b[0;34m)\u001b[0m\u001b[0;34m\u001b[0m\u001b[0m\n\u001b[0m",
      "\u001b[0;32m/home/tomii/.pyenv/versions/anaconda2-4.4.0/lib/python2.7/subprocess.pyc\u001b[0m in \u001b[0;36mcall\u001b[0;34m(*popenargs, **kwargs)\u001b[0m\n\u001b[1;32m    166\u001b[0m     \u001b[0mretcode\u001b[0m \u001b[0;34m=\u001b[0m \u001b[0mcall\u001b[0m\u001b[0;34m(\u001b[0m\u001b[0;34m[\u001b[0m\u001b[0;34m\"ls\"\u001b[0m\u001b[0;34m,\u001b[0m \u001b[0;34m\"-l\"\u001b[0m\u001b[0;34m]\u001b[0m\u001b[0;34m)\u001b[0m\u001b[0;34m\u001b[0m\u001b[0m\n\u001b[1;32m    167\u001b[0m     \"\"\"\n\u001b[0;32m--> 168\u001b[0;31m     \u001b[0;32mreturn\u001b[0m \u001b[0mPopen\u001b[0m\u001b[0;34m(\u001b[0m\u001b[0;34m*\u001b[0m\u001b[0mpopenargs\u001b[0m\u001b[0;34m,\u001b[0m \u001b[0;34m**\u001b[0m\u001b[0mkwargs\u001b[0m\u001b[0;34m)\u001b[0m\u001b[0;34m.\u001b[0m\u001b[0mwait\u001b[0m\u001b[0;34m(\u001b[0m\u001b[0;34m)\u001b[0m\u001b[0;34m\u001b[0m\u001b[0m\n\u001b[0m\u001b[1;32m    169\u001b[0m \u001b[0;34m\u001b[0m\u001b[0m\n\u001b[1;32m    170\u001b[0m \u001b[0;34m\u001b[0m\u001b[0m\n",
      "\u001b[0;32m/home/tomii/.pyenv/versions/anaconda2-4.4.0/lib/python2.7/subprocess.pyc\u001b[0m in \u001b[0;36m__init__\u001b[0;34m(self, args, bufsize, executable, stdin, stdout, stderr, preexec_fn, close_fds, shell, cwd, env, universal_newlines, startupinfo, creationflags)\u001b[0m\n\u001b[1;32m    388\u001b[0m                                 \u001b[0mp2cread\u001b[0m\u001b[0;34m,\u001b[0m \u001b[0mp2cwrite\u001b[0m\u001b[0;34m,\u001b[0m\u001b[0;34m\u001b[0m\u001b[0m\n\u001b[1;32m    389\u001b[0m                                 \u001b[0mc2pread\u001b[0m\u001b[0;34m,\u001b[0m \u001b[0mc2pwrite\u001b[0m\u001b[0;34m,\u001b[0m\u001b[0;34m\u001b[0m\u001b[0m\n\u001b[0;32m--> 390\u001b[0;31m                                 errread, errwrite)\n\u001b[0m\u001b[1;32m    391\u001b[0m         \u001b[0;32mexcept\u001b[0m \u001b[0mException\u001b[0m\u001b[0;34m:\u001b[0m\u001b[0;34m\u001b[0m\u001b[0m\n\u001b[1;32m    392\u001b[0m             \u001b[0;31m# Preserve original exception in case os.close raises.\u001b[0m\u001b[0;34m\u001b[0m\u001b[0;34m\u001b[0m\u001b[0m\n",
      "\u001b[0;32m/home/tomii/.pyenv/versions/anaconda2-4.4.0/lib/python2.7/subprocess.pyc\u001b[0m in \u001b[0;36m_execute_child\u001b[0;34m(self, args, executable, preexec_fn, close_fds, cwd, env, universal_newlines, startupinfo, creationflags, shell, to_close, p2cread, p2cwrite, c2pread, c2pwrite, errread, errwrite)\u001b[0m\n\u001b[1;32m    914\u001b[0m                     \u001b[0mgc\u001b[0m\u001b[0;34m.\u001b[0m\u001b[0mdisable\u001b[0m\u001b[0;34m(\u001b[0m\u001b[0;34m)\u001b[0m\u001b[0;34m\u001b[0m\u001b[0m\n\u001b[1;32m    915\u001b[0m                     \u001b[0;32mtry\u001b[0m\u001b[0;34m:\u001b[0m\u001b[0;34m\u001b[0m\u001b[0m\n\u001b[0;32m--> 916\u001b[0;31m                         \u001b[0mself\u001b[0m\u001b[0;34m.\u001b[0m\u001b[0mpid\u001b[0m \u001b[0;34m=\u001b[0m \u001b[0mos\u001b[0m\u001b[0;34m.\u001b[0m\u001b[0mfork\u001b[0m\u001b[0;34m(\u001b[0m\u001b[0;34m)\u001b[0m\u001b[0;34m\u001b[0m\u001b[0m\n\u001b[0m\u001b[1;32m    917\u001b[0m                     \u001b[0;32mexcept\u001b[0m\u001b[0;34m:\u001b[0m\u001b[0;34m\u001b[0m\u001b[0m\n\u001b[1;32m    918\u001b[0m                         \u001b[0;32mif\u001b[0m \u001b[0mgc_was_enabled\u001b[0m\u001b[0;34m:\u001b[0m\u001b[0;34m\u001b[0m\u001b[0m\n",
      "\u001b[0;31mOSError\u001b[0m: [Errno 12] Cannot allocate memory"
     ]
    }
   ],
   "source": [
    "dir_names = ['20171014-40', '20171014-42', '20171014-4', '20171014-46']\n",
    "time = 1000\n",
    "width = 5\n",
    "for dir_name in dir_names:\n",
    "    print(dir_name)\n",
    "    \"\"\"\n",
    "    hj_array = np.zeros((time+1, 200, 200))\n",
    "    m_array = np.zeros((time+1, 200, 200))\n",
    "    Ina = np.zeros((time+1, 200, 200))\n",
    "    print('start loading...')\n",
    "    for i in range(time):\n",
    "        num = '{0:04d}'.format(i)\n",
    "        a = np.load('/mnt/recordings/SimulationResults/%s/cell_%s/%s' % (dir_name, num, 'h.npy')).reshape((200, 200))\n",
    "        b = np.load('/mnt/recordings/SimulationResults/%s/cell_%s/%s' % (dir_name, num, 'j.npy')).reshape((200, 200))\n",
    "        hj_array[i, :, :] = a*b\n",
    "        Ina[i, :, :] = np.load('/mnt/recordings/SimulationResults/%s/cell_%s/%s' % (dir_name, num, 'xina.npy')).reshape((200, 200))\n",
    "    print('end')\n",
    "\n",
    "    for i in range(time):\n",
    "        if not os.path.exists(os.path.join(out_dir, dir_name, 'hj')):\n",
    "            os.makedirs(os.path.join(out_dir, dir_name, 'hj'))\n",
    "        num = \"{0:04d}\".format(i)\n",
    "        plt.imshow(hj_array[i], vmin=np.min(hj_array), vmax=np.max(hj_array))\n",
    "        plt.xticks([])\n",
    "        plt.yticks([])\n",
    "        plt.savefig(os.path.join(out_dir, '%s/hj/%s.png'%(dir_name, num)), dpi=300)\n",
    "        plt.close()\n",
    "\n",
    "        if not os.path.exists(os.path.join(out_dir, dir_name, 'ina')):\n",
    "            os.makedirs(os.path.join(out_dir, dir_name, 'ina'))\n",
    "        plt.imshow((np.sum((Ina[i-width:i, :, :] < -1), axis=0) > 0), vmin=0, vmax=1, cmap='Reds')\n",
    "        plt.xticks([])\n",
    "        plt.yticks([])\n",
    "        plt.savefig(os.path.join(out_dir, '%s/ina/%s.png'%(dir_name, num)), dpi=300)\n",
    "        plt.close()\n",
    "    \"\"\"\n",
    "\n",
    "    for i in range(time):\n",
    "        num = \"{0:04d}\".format(i)\n",
    "        hj = cv2.cvtColor(cv2.imread(os.path.join(out_dir, '%s/hj/%s.png'%(dir_name, num))), cv2.COLOR_BGR2RGB)\n",
    "        ina = cv2.cvtColor(cv2.imread(os.path.join(out_dir, '%s/ina/%s.png'%(dir_name, num))), cv2.COLOR_BGR2RGB)\n",
    "\n",
    "        ina_threshold = (ina[:, :, 2] < 128) * (ina[:, :, 2] > 3) * 1\n",
    "\n",
    "        data = np.zeros_like(hj)\n",
    "        data[:, :, 0] = ina_threshold*255+(1-ina_threshold)*hj[:, :, 0]\n",
    "        data[:, :, 1] = (1-ina_threshold)*hj[:, :, 1]\n",
    "        data[:, :, 2] = (1-ina_threshold)*hj[:, :, 2]\n",
    "\n",
    "        if not os.path.exists(os.path.join(out_dir, dir_name, 'integrate')):\n",
    "            os.makedirs(os.path.join(out_dir, dir_name, 'integrate'))\n",
    "        plt.imshow(data)\n",
    "        plt.text(500,250,\"%s (ms)\"%num,fontsize=15, color='w')\n",
    "        plt.xticks([])\n",
    "        plt.yticks([])\n",
    "        plt.savefig(os.path.join(out_dir, dir_name, 'integrate/%s.png'%num), dpi=300)\n",
    "        plt.close()\n",
    "\n",
    "    pic_dir = os.path.join(out_dir, '%s/integrate'%dir_name)\n",
    "    mov_dir = os.path.join(out_dir, '%s'%dir_name)\n",
    "    subprocess.call('ffmpeg -r 15 -y -i \"{0}/%04d.png\" -c:v libx264 -pix_fmt yuv420p -qscale 0 \"{1}/integrate.mp4\"'.format(pic_dir, mov_dir), shell=True)"
   ]
  },
  {
   "cell_type": "code",
   "execution_count": 5,
   "metadata": {},
   "outputs": [
    {
     "data": {
      "text/plain": [
       "0"
      ]
     },
     "execution_count": 5,
     "metadata": {},
     "output_type": "execute_result"
    }
   ],
   "source": [
    "dir_name ='20171014-46'\n",
    "pic_dir = os.path.join(out_dir, '%s/integrate'%dir_name)\n",
    "mov_dir = os.path.join(out_dir, '%s'%dir_name)\n",
    "subprocess.call('ffmpeg -r 15 -y -i \"{0}/%04d.png\" -c:v libx264 -pix_fmt yuv420p -qscale 0 \"{1}/integrate.mp4\"'.format(pic_dir, mov_dir), shell=True)"
   ]
  },
  {
   "cell_type": "code",
   "execution_count": null,
   "metadata": {
    "collapsed": true
   },
   "outputs": [],
   "source": []
  }
 ],
 "metadata": {
  "kernelspec": {
   "display_name": "Python 2",
   "language": "python",
   "name": "python2"
  },
  "language_info": {
   "codemirror_mode": {
    "name": "ipython",
    "version": 2
   },
   "file_extension": ".py",
   "mimetype": "text/x-python",
   "name": "python",
   "nbconvert_exporter": "python",
   "pygments_lexer": "ipython2",
   "version": "2.7.13"
  }
 },
 "nbformat": 4,
 "nbformat_minor": 2
}
