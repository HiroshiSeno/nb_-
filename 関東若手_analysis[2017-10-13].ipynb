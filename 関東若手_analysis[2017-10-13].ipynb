{
 "cells": [
  {
   "cell_type": "code",
   "execution_count": 1,
   "metadata": {
    "collapsed": true
   },
   "outputs": [],
   "source": [
    "import numpy as np\n",
    "import matplotlib.pyplot as plt\n",
    "import os\n",
    "import subprocess\n",
    "%matplotlib inline"
   ]
  },
  {
   "cell_type": "code",
   "execution_count": 2,
   "metadata": {
    "collapsed": true
   },
   "outputs": [],
   "source": [
    "from opmap.RawCam import RawCam\n",
    "from opmap.VmemMap import VmemMap\n",
    "from opmap.PhaseMap import PhaseMap\n",
    "from opmap.PhaseVarianceMap import PhaseVarianceMap\n",
    "from opmap.util import makeMovie"
   ]
  },
  {
   "cell_type": "markdown",
   "metadata": {
    "collapsed": true
   },
   "source": [
    "# 位相分散解析"
   ]
  },
  {
   "cell_type": "code",
   "execution_count": 13,
   "metadata": {
    "collapsed": true
   },
   "outputs": [],
   "source": [
    "results = ['20171013-3', '20171013-4']\n",
    "result_date = '20171013'\n",
    "\n",
    "if not os.path.exists('/mnt/recordings/AnalysisResult/Seno/simulation/Mahajan/%s' % result_date):\n",
    "    os.makedirs('/mnt/recordings/AnalysisResult/Seno/simulation/Mahajan/%s' % result_date)"
   ]
  },
  {
   "cell_type": "code",
   "execution_count": 14,
   "metadata": {},
   "outputs": [
    {
     "name": "stdout",
     "output_type": "stream",
     "text": [
      "20171013-3\n",
      "20171013-4\n"
     ]
    }
   ],
   "source": [
    "for result in results:\n",
    "    print(result)\n",
    "    vmem1 = RawCam(path='/mnt/recordings/SimulationResults/%s'%result, cam_type='numpy',\n",
    "                   image_width=200, image_height=200, frame_start=0, frame_end=-1)\n",
    "    vmem_temp = VmemMap(vmem1)\n",
    "    vmem1.cmap = vmem_temp.cmap\n",
    "    vmem1.saveImage('/mnt/recordings/AnalysisResult/Seno/simulation/Mahajan/%s/%s/vmem'%(result_date, result))\n",
    "    subprocess.call('ffmpeg -r 30 -y -i \"/mnt/recordings/AnalysisResult/Seno/simulation/Mahajan/{0}/{1}/vmem/%06d.png\" -c:v libx264 -pix_fmt yuv420p -qscale 0 \"/mnt/recordings/AnalysisResult/Seno/simulation/Mahajan/{0}/{1}/vmem/movie.mp4\"'.format(result_date, result), shell=True)\n",
    "\n",
    "    pmap = PhaseMap(vmem1)\n",
    "    pmap.saveImage('/mnt/recordings/AnalysisResult/Seno/simulation/Mahajan/%s/%s/pmap'%(result_date, result))\n",
    "    subprocess.call('ffmpeg -r 30 -y -i \"/mnt/recordings/AnalysisResult/Seno/simulation/Mahajan/{0}/{1}/pmap/%06d.png\" -c:v libx264 -pix_fmt yuv420p -qscale 0 \"/mnt/recordings/AnalysisResult/Seno/simulation/Mahajan/{0}/{1}/pmap/movie.mp4\"'.format(result_date, result), shell=True)\n",
    "    \n",
    "    pvmap = PhaseVarianceMap(pmap, size=3)\n",
    "    pvmap.saveImage('/mnt/recordings/AnalysisResult/Seno/simulation/Mahajan/%s/%s/pvmap'%(result_date, result))\n",
    "    subprocess.call('ffmpeg -r 30 -y -i \"/mnt/recordings/AnalysisResult/Seno/simulation/Mahajan/{0}/{1}/pvmap/%06d.png\" -c:v libx264 -pix_fmt yuv420p -qscale 0 \"/mnt/recordings/AnalysisResult/Seno/simulation/Mahajan/{0}/{1}/pvmap/movie.mp4\"'.format(result_date, result), shell=True)"
   ]
  },
  {
   "cell_type": "code",
   "execution_count": null,
   "metadata": {
    "collapsed": true
   },
   "outputs": [],
   "source": []
  }
 ],
 "metadata": {
  "kernelspec": {
   "display_name": "Python 2",
   "language": "python",
   "name": "python2"
  },
  "language_info": {
   "codemirror_mode": {
    "name": "ipython",
    "version": 2
   },
   "file_extension": ".py",
   "mimetype": "text/x-python",
   "name": "python",
   "nbconvert_exporter": "python",
   "pygments_lexer": "ipython2",
   "version": "2.7.13"
  }
 },
 "nbformat": 4,
 "nbformat_minor": 2
}
