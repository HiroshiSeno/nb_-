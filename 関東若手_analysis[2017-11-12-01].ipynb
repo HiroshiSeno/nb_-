{
 "cells": [
  {
   "cell_type": "code",
   "execution_count": 1,
   "metadata": {
    "collapsed": true
   },
   "outputs": [],
   "source": [
    "import numpy as np\n",
    "import matplotlib.pyplot as plt\n",
    "import matplotlib.cm as cm\n",
    "import os\n",
    "import subprocess\n",
    "%matplotlib inline"
   ]
  },
  {
   "cell_type": "code",
   "execution_count": 2,
   "metadata": {
    "collapsed": true
   },
   "outputs": [],
   "source": [
    "from opmap.RawCam import RawCam\n",
    "from opmap.VmemMap import VmemMap\n",
    "from opmap.PhaseMap import PhaseMap\n",
    "from opmap.PhaseVarianceMap import PhaseVarianceMap\n",
    "from opmap.util import makeMovie"
   ]
  },
  {
   "cell_type": "markdown",
   "metadata": {
    "collapsed": true
   },
   "source": [
    "# 位相分散解析"
   ]
  },
  {
   "cell_type": "code",
   "execution_count": 3,
   "metadata": {
    "collapsed": true
   },
   "outputs": [],
   "source": [
    "results = ['20171108-48']\n",
    "result_date = '20171112'\n",
    "\n",
    "if not os.path.exists('/mnt/recordings/AnalysisResult/Seno/simulation/Mahajan/%s/' % result_date):\n",
    "    os.makedirs('/mnt/recordings/AnalysisResult/Seno/simulation/Mahajan/%s/' % result_date)"
   ]
  },
  {
   "cell_type": "code",
   "execution_count": 4,
   "metadata": {},
   "outputs": [
    {
     "name": "stdout",
     "output_type": "stream",
     "text": [
      "20171108-48\n"
     ]
    }
   ],
   "source": [
    "for result in results:\n",
    "    print(result)\n",
    "    result_path = '/mnt/recordings/AnalysisResult/Seno/simulation/Mahajan/%s/%s/temp' % (result_date, result)\n",
    "    if not os.path.exists(result_path):\n",
    "        os.makedirs(result_path)\n",
    "\n",
    "    temp = np.zeros((1000, 200, 200))\n",
    "    for i in range(1000):\n",
    "        num = \"{0:04d}\".format(i)\n",
    "        temp[i, :, :] = np.load('/mnt/recordings/SimulationResults/2D/%s/cell_%s/temp.npy'%(result, num)).reshape((200,200))\n",
    "    \n",
    "    for i in range(1000):\n",
    "        num = \"{0:04d}\".format(i)\n",
    "        plt.imshow(temp[i, :, :], vmin=np.min(temp), vmax=np.max(temp), cmap='jet')\n",
    "        plt.xticks([])\n",
    "        plt.yticks([])\n",
    "        plt.colorbar()\n",
    "        plt.savefig(os.path.join(result_path, '%s.png'%num), dpi=300)\n",
    "        plt.close()\n",
    "\n",
    "    vmem1 = RawCam(path='/mnt/recordings/SimulationResults/2D/%s'%result, cam_type='numpy',\n",
    "                   image_width=200, image_height=200, frame_start=0, frame_end=-1)\n",
    "    vmem_temp = VmemMap(vmem1)\n",
    "    vmem1.cmap = vmem_temp.cmap\n",
    "    vmem1.saveImage('/mnt/recordings/AnalysisResult/Seno/simulation/Mahajan/%s/%s/vmem'%(result_date, result))\n",
    "    subprocess.call('ffmpeg -r 30 -y -i \"/mnt/recordings/AnalysisResult/Seno/simulation/Mahajan/{0}/{1}/vmem/%06d.png\" -c:v libx264 -pix_fmt yuv420p -qscale 0 \"/mnt/recordings/AnalysisResult/Seno/simulation/Mahajan/{0}/{1}/vmem.mp4\"'.format(result_date, result), shell=True)\n",
    "    subprocess.call('ffmpeg -r 30 -y -i \"/mnt/recordings/AnalysisResult/Seno/simulation/Mahajan/{0}/{1}/temp/%04d.png\" -c:v libx264 -pix_fmt yuv420p -qscale 0 \"/mnt/recordings/AnalysisResult/Seno/simulation/Mahajan/{0}/{1}/temp.mp4\"'.format(result_date, result), shell=True)\n"
   ]
  },
  {
   "cell_type": "markdown",
   "metadata": {},
   "source": [
    "# ヒートマップ出力"
   ]
  },
  {
   "cell_type": "code",
   "execution_count": null,
   "metadata": {
    "collapsed": true
   },
   "outputs": [],
   "source": []
  },
  {
   "cell_type": "markdown",
   "metadata": {},
   "source": [
    "## 心筋線維走向に平行方向へ冷却した場合"
   ]
  },
  {
   "cell_type": "code",
   "execution_count": 109,
   "metadata": {
    "collapsed": true
   },
   "outputs": [],
   "source": [
    "data = [[np.nan, 7, 3, 3],\n",
    "        [5, 2, 2, 2],\n",
    "        [2, 2, 1, 1],\n",
    "        [2, 1, 1, 1]]"
   ]
  },
  {
   "cell_type": "code",
   "execution_count": 110,
   "metadata": {
    "collapsed": true
   },
   "outputs": [],
   "source": [
    "sns.set(font_scale=1.4)\n",
    "sns.heatmap(data, annot=True, fmt=\"1.0f\", cmap='Blues_r', vmin=1, vmax=8, cbar=False)\n",
    "plt.xlabel(u'Cooling width (mm)', size=16)\n",
    "plt.ylabel(u'Cooling Temperature (K)', size=16)\n",
    "plt.xticks([0.5,1.5,2.5,3.5],[0.15, 0.45, 0.75, 1.05], size=14)\n",
    "plt.yticks([0.5,1.5,2.5,3.5],[8, 6, 4, 2], size=14)\n",
    "plt.title('The number of cycles until SW annihilation', size=20)\n",
    "plt.tight_layout()\n",
    "plt.savefig('/mnt/recordings/AnalysisResult/Seno/simulation/Mahajan/20171018/heatmap_parallel.png', dpi=300)\n",
    "plt.close()"
   ]
  },
  {
   "cell_type": "markdown",
   "metadata": {},
   "source": [
    "## 心筋線維走向と45°冷却した場合"
   ]
  },
  {
   "cell_type": "code",
   "execution_count": 111,
   "metadata": {
    "collapsed": true
   },
   "outputs": [],
   "source": [
    "data = [[np.nan, np.nan, np.nan, np.nan],\n",
    "        [np.nan, np.nan, np.nan, 8],\n",
    "        [np.nan, np.nan, np.nan, 2],\n",
    "        [np.nan, np.nan, 2, 2]]"
   ]
  },
  {
   "cell_type": "code",
   "execution_count": 112,
   "metadata": {
    "collapsed": true
   },
   "outputs": [],
   "source": [
    "sns.set(font_scale=1.4)\n",
    "sns.heatmap(data, annot=True, fmt=\"1.0f\", cmap='Blues_r', vmin=1, vmax=8, cbar=False)\n",
    "plt.xlabel(u'Cooling width (mm)', size=16)\n",
    "plt.ylabel(u'Cooling Temperature (K)', size=16)\n",
    "plt.xticks([0.5,1.5,2.5,3.5],[0.15, 0.45, 0.75, 1.05], size=14)\n",
    "plt.yticks([0.5,1.5,2.5,3.5],[8, 6, 4, 2], size=14)\n",
    "plt.title('The number of cycles until SW annihilation', size=20)\n",
    "plt.tight_layout()\n",
    "plt.savefig('/mnt/recordings/AnalysisResult/Seno/simulation/Mahajan/20171018/heatmap_45.png', dpi=300)\n",
    "plt.close()"
   ]
  },
  {
   "cell_type": "markdown",
   "metadata": {},
   "source": [
    "## 心筋線維走向に垂直方向へ冷却した場合"
   ]
  },
  {
   "cell_type": "code",
   "execution_count": 113,
   "metadata": {
    "collapsed": true
   },
   "outputs": [],
   "source": [
    "data = [[np.nan, np.nan, np.nan, np.nan],\n",
    "        [np.nan, np.nan, np.nan, np.nan],\n",
    "        [np.nan, np.nan, np.nan, 3],\n",
    "        [np.nan, 6, 2, 2]]"
   ]
  },
  {
   "cell_type": "code",
   "execution_count": 114,
   "metadata": {
    "collapsed": true
   },
   "outputs": [],
   "source": [
    "sns.set(font_scale=1.4)\n",
    "sns.heatmap(data, annot=True, fmt=\"1.0f\", cmap='Blues_r', vmin=1, vmax=8, cbar=False)\n",
    "plt.xlabel(u'Cooling width (mm)', size=16)\n",
    "plt.ylabel(u'Cooling Temperature (K)', size=16)\n",
    "plt.xticks([0.5,1.5,2.5,3.5],[0.15, 0.45, 0.75, 1.05], size=14)\n",
    "plt.yticks([0.5,1.5,2.5,3.5],[8, 6, 4, 2], size=14)\n",
    "cbar = plt.colorbar\n",
    "plt.title('The number of cycles until SW annihilation', size=20)\n",
    "plt.tight_layout()\n",
    "plt.savefig('/mnt/recordings/AnalysisResult/Seno/simulation/Mahajan/20171018/heatmap_vertical.png', dpi=300)\n",
    "plt.close()"
   ]
  },
  {
   "cell_type": "code",
   "execution_count": null,
   "metadata": {
    "collapsed": true
   },
   "outputs": [],
   "source": []
  }
 ],
 "metadata": {
  "kernelspec": {
   "display_name": "Python 2",
   "language": "python",
   "name": "python2"
  },
  "language_info": {
   "codemirror_mode": {
    "name": "ipython",
    "version": 2
   },
   "file_extension": ".py",
   "mimetype": "text/x-python",
   "name": "python",
   "nbconvert_exporter": "python",
   "pygments_lexer": "ipython2",
   "version": "2.7.13"
  }
 },
 "nbformat": 4,
 "nbformat_minor": 2
}
