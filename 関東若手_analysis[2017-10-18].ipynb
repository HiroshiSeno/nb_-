{
 "cells": [
  {
   "cell_type": "code",
   "execution_count": 26,
   "metadata": {
    "collapsed": true
   },
   "outputs": [],
   "source": [
    "import numpy as np\n",
    "import matplotlib.pyplot as plt\n",
    "import matplotlib.cm as cm\n",
    "import os\n",
    "import subprocess\n",
    "import seaborn as sns\n",
    "%matplotlib inline"
   ]
  },
  {
   "cell_type": "code",
   "execution_count": 2,
   "metadata": {
    "collapsed": true
   },
   "outputs": [],
   "source": [
    "from opmap.RawCam import RawCam\n",
    "from opmap.VmemMap import VmemMap\n",
    "from opmap.PhaseMap import PhaseMap\n",
    "from opmap.PhaseVarianceMap import PhaseVarianceMap\n",
    "from opmap.util import makeMovie"
   ]
  },
  {
   "cell_type": "markdown",
   "metadata": {
    "collapsed": true
   },
   "source": [
    "# 位相分散解析"
   ]
  },
  {
   "cell_type": "code",
   "execution_count": 70,
   "metadata": {
    "collapsed": true
   },
   "outputs": [],
   "source": [
    "results = ['20171014-3', '20171014-6', '20171014-9', '20171014-12',\n",
    "           '20171014-15', '20171014-18', '20171014-21', '20171014-24',\n",
    "           '20171014-27', '20171014-30', '20171014-33', '20171014-36',\n",
    "           '20171014-39', '20171014-42', '20171014-45', '20171014-48']\n",
    "result_date = '20171018'\n",
    "\n",
    "if not os.path.exists('/mnt/recordings/AnalysisResult/Seno/simulation/Mahajan/%s/case3' % result_date):\n",
    "    os.makedirs('/mnt/recordings/AnalysisResult/Seno/simulation/Mahajan/%s/case3' % result_date)"
   ]
  },
  {
   "cell_type": "code",
   "execution_count": 71,
   "metadata": {},
   "outputs": [
    {
     "name": "stdout",
     "output_type": "stream",
     "text": [
      "20171014-3\n",
      "20171014-6\n",
      "20171014-9\n",
      "20171014-12\n",
      "20171014-15\n",
      "20171014-18\n",
      "20171014-21\n",
      "20171014-24\n",
      "20171014-27\n",
      "20171014-30\n",
      "20171014-33\n",
      "20171014-36\n",
      "20171014-39\n",
      "20171014-42\n",
      "20171014-45\n",
      "20171014-48\n"
     ]
    }
   ],
   "source": [
    "for result in results:\n",
    "    print(result)\n",
    "    vmem1 = RawCam(path='/mnt/recordings/SimulationResults/%s'%result, cam_type='numpy',\n",
    "                   image_width=200, image_height=200, frame_start=0, frame_end=-1)\n",
    "    vmem_temp = VmemMap(vmem1)\n",
    "    vmem1.cmap = vmem_temp.cmap\n",
    "    vmem1.saveImage('/mnt/recordings/AnalysisResult/Seno/simulation/Mahajan/%s/case3/%s/vmem'%(result_date, result))\n",
    "    subprocess.call('ffmpeg -r 30 -y -i \"/mnt/recordings/AnalysisResult/Seno/simulation/Mahajan/{0}/case3/{1}/vmem/%06d.png\" -c:v libx264 -pix_fmt yuv420p -qscale 0 \"/mnt/recordings/AnalysisResult/Seno/simulation/Mahajan/{0}/case3/{1}/vmem.mp4\"'.format(result_date, result), shell=True)\n",
    "\n",
    "    pmap = PhaseMap(vmem1, shrink=2)\n",
    "    pmap.saveImage('/mnt/recordings/AnalysisResult/Seno/simulation/Mahajan/%s/case3/%s/pmap'%(result_date, result))\n",
    "    subprocess.call('ffmpeg -r 30 -y -i \"/mnt/recordings/AnalysisResult/Seno/simulation/Mahajan/{0}/case3/{1}/pmap/%06d.png\" -c:v libx264 -pix_fmt yuv420p -qscale 0 \"/mnt/recordings/AnalysisResult/Seno/simulation/Mahajan/{0}/case3/{1}/pmap.mp4\"'.format(result_date, result), shell=True)\n",
    "    \n",
    "    pvmap = PhaseVarianceMap(pmap, size=3)\n",
    "    pvmap.saveImage('/mnt/recordings/AnalysisResult/Seno/simulation/Mahajan/%s/case3/%s/pvmap'%(result_date, result))\n",
    "    subprocess.call('ffmpeg -r 30 -y -i \"/mnt/recordings/AnalysisResult/Seno/simulation/Mahajan/{0}/case3/{1}/pvmap/%06d.png\" -c:v libx264 -pix_fmt yuv420p -qscale 0 \"/mnt/recordings/AnalysisResult/Seno/simulation/Mahajan/{0}/case3/{1}/pvmap.mp4\"'.format(result_date, result), shell=True)"
   ]
  },
  {
   "cell_type": "markdown",
   "metadata": {},
   "source": [
    "# SW消滅までの時間計算"
   ]
  },
  {
   "cell_type": "code",
   "execution_count": 19,
   "metadata": {
    "collapsed": true
   },
   "outputs": [],
   "source": [
    "\"\"\"\n",
    "results = [['20171014-1', '20171014-4', '20171014-7', '20171014-10'],\n",
    "           ['20171014-13', '20171014-16', '20171014-19', '20171014-22'],\n",
    "           ['20171014-25', '20171014-28', '20171014-31', '20171014-34'],\n",
    "           ['20171014-37', '20171014-40', '20171014-43', '20171014-46']]\n",
    "\"\"\"\n",
    "\n",
    "results =  [['20171014-16'],\n",
    "           ['20171014-25', '20171014-31', '20171014-34'],\n",
    "           ['20171014-40', '20171014-43', '20171014-46']]\n"
   ]
  },
  {
   "cell_type": "code",
   "execution_count": 20,
   "metadata": {},
   "outputs": [
    {
     "name": "stdout",
     "output_type": "stream",
     "text": [
      "20171014-16\n",
      "187\n",
      "20171014-25\n",
      "188\n",
      "20171014-31\n",
      "186\n",
      "20171014-34\n",
      "186\n",
      "20171014-40\n",
      "186\n",
      "20171014-43\n",
      "186\n",
      "20171014-46\n",
      "186\n"
     ]
    }
   ],
   "source": [
    "for directories in results:\n",
    "    for directory in directories:\n",
    "        print(directory)\n",
    "        vmem1 = RawCam(path='/mnt/recordings/SimulationResults/%s'%directory, cam_type='numpy',\n",
    "                   image_width=200, image_height=200, frame_start=0, frame_end=-1)\n",
    "        pmap = PhaseMap(vmem1, shrink=2)\n",
    "        pvmap = PhaseVarianceMap(pmap, size=3)\n",
    "        phase_variance =pvmap.data\n",
    "        core = (phase_variance > 0.4)*1\n",
    "        core_count = np.sum(np.sum(core, axis=1), axis=1)\n",
    "        flag = 0\n",
    "        for i in range(30, len(core_count)):\n",
    "            if flag == 0 and core_count[i] == 0:\n",
    "                print(i)\n",
    "                flag = 1"
   ]
  },
  {
   "cell_type": "markdown",
   "metadata": {},
   "source": [
    "# ヒートマップ出力"
   ]
  },
  {
   "cell_type": "markdown",
   "metadata": {},
   "source": [
    "## 心筋線維走向に平行方向へ冷却した場合"
   ]
  },
  {
   "cell_type": "code",
   "execution_count": 109,
   "metadata": {
    "collapsed": true
   },
   "outputs": [],
   "source": [
    "data = [[np.nan, 7, 3, 3],\n",
    "        [5, 2, 2, 2],\n",
    "        [2, 2, 1, 1],\n",
    "        [2, 1, 1, 1]]"
   ]
  },
  {
   "cell_type": "code",
   "execution_count": 110,
   "metadata": {
    "collapsed": true
   },
   "outputs": [],
   "source": [
    "sns.set(font_scale=1.4)\n",
    "sns.heatmap(data, annot=True, fmt=\"1.0f\", cmap='Blues_r', vmin=1, vmax=8, cbar=False)\n",
    "plt.xlabel(u'Cooling width (mm)', size=16)\n",
    "plt.ylabel(u'Cooling Temperature (K)', size=16)\n",
    "plt.xticks([0.5,1.5,2.5,3.5],[0.15, 0.45, 0.75, 1.05], size=14)\n",
    "plt.yticks([0.5,1.5,2.5,3.5],[8, 6, 4, 2], size=14)\n",
    "plt.title('The number of cycles until SW annihilation', size=20)\n",
    "plt.tight_layout()\n",
    "plt.savefig('/mnt/recordings/AnalysisResult/Seno/simulation/Mahajan/20171018/heatmap_parallel.png', dpi=300)\n",
    "plt.close()"
   ]
  },
  {
   "cell_type": "markdown",
   "metadata": {},
   "source": [
    "## 心筋線維走向と45°冷却した場合"
   ]
  },
  {
   "cell_type": "code",
   "execution_count": 111,
   "metadata": {
    "collapsed": true
   },
   "outputs": [],
   "source": [
    "data = [[np.nan, np.nan, np.nan, np.nan],\n",
    "        [np.nan, np.nan, np.nan, 8],\n",
    "        [np.nan, np.nan, np.nan, 2],\n",
    "        [np.nan, np.nan, 2, 2]]"
   ]
  },
  {
   "cell_type": "code",
   "execution_count": 112,
   "metadata": {
    "collapsed": true
   },
   "outputs": [],
   "source": [
    "sns.set(font_scale=1.4)\n",
    "sns.heatmap(data, annot=True, fmt=\"1.0f\", cmap='Blues_r', vmin=1, vmax=8, cbar=False)\n",
    "plt.xlabel(u'Cooling width (mm)', size=16)\n",
    "plt.ylabel(u'Cooling Temperature (K)', size=16)\n",
    "plt.xticks([0.5,1.5,2.5,3.5],[0.15, 0.45, 0.75, 1.05], size=14)\n",
    "plt.yticks([0.5,1.5,2.5,3.5],[8, 6, 4, 2], size=14)\n",
    "plt.title('The number of cycles until SW annihilation', size=20)\n",
    "plt.tight_layout()\n",
    "plt.savefig('/mnt/recordings/AnalysisResult/Seno/simulation/Mahajan/20171018/heatmap_45.png', dpi=300)\n",
    "plt.close()"
   ]
  },
  {
   "cell_type": "markdown",
   "metadata": {},
   "source": [
    "## 心筋線維走向に垂直方向へ冷却した場合"
   ]
  },
  {
   "cell_type": "code",
   "execution_count": 113,
   "metadata": {
    "collapsed": true
   },
   "outputs": [],
   "source": [
    "data = [[np.nan, np.nan, np.nan, np.nan],\n",
    "        [np.nan, np.nan, np.nan, np.nan],\n",
    "        [np.nan, np.nan, np.nan, 3],\n",
    "        [np.nan, 6, 2, 2]]"
   ]
  },
  {
   "cell_type": "code",
   "execution_count": 114,
   "metadata": {
    "collapsed": true
   },
   "outputs": [],
   "source": [
    "sns.set(font_scale=1.4)\n",
    "sns.heatmap(data, annot=True, fmt=\"1.0f\", cmap='Blues_r', vmin=1, vmax=8, cbar=False)\n",
    "plt.xlabel(u'Cooling width (mm)', size=16)\n",
    "plt.ylabel(u'Cooling Temperature (K)', size=16)\n",
    "plt.xticks([0.5,1.5,2.5,3.5],[0.15, 0.45, 0.75, 1.05], size=14)\n",
    "plt.yticks([0.5,1.5,2.5,3.5],[8, 6, 4, 2], size=14)\n",
    "cbar = plt.colorbar\n",
    "plt.title('The number of cycles until SW annihilation', size=20)\n",
    "plt.tight_layout()\n",
    "plt.savefig('/mnt/recordings/AnalysisResult/Seno/simulation/Mahajan/20171018/heatmap_vertical.png', dpi=300)\n",
    "plt.close()"
   ]
  },
  {
   "cell_type": "code",
   "execution_count": null,
   "metadata": {
    "collapsed": true
   },
   "outputs": [],
   "source": []
  }
 ],
 "metadata": {
  "kernelspec": {
   "display_name": "Python 2",
   "language": "python",
   "name": "python2"
  },
  "language_info": {
   "codemirror_mode": {
    "name": "ipython",
    "version": 2
   },
   "file_extension": ".py",
   "mimetype": "text/x-python",
   "name": "python",
   "nbconvert_exporter": "python",
   "pygments_lexer": "ipython2",
   "version": "2.7.13"
  }
 },
 "nbformat": 4,
 "nbformat_minor": 2
}
