{
 "cells": [
  {
   "cell_type": "code",
   "execution_count": 1,
   "metadata": {
    "collapsed": true
   },
   "outputs": [],
   "source": [
    "import numpy as np\n",
    "import matplotlib.pyplot as plt\n",
    "import matplotlib.cm as cm\n",
    "import os\n",
    "import subprocess\n",
    "%matplotlib inline"
   ]
  },
  {
   "cell_type": "markdown",
   "metadata": {
    "collapsed": true
   },
   "source": [
    "# APDを計測"
   ]
  },
  {
   "cell_type": "code",
   "execution_count": 10,
   "metadata": {
    "collapsed": true
   },
   "outputs": [],
   "source": [
    "vmem_310 = np.zeros(300)\n",
    "vmem_308 = np.zeros(300)\n",
    "vmem_306 = np.zeros(300)\n",
    "vmem_304 = np.zeros(300)\n",
    "vmem_302 = np.zeros(300)"
   ]
  },
  {
   "cell_type": "code",
   "execution_count": 14,
   "metadata": {},
   "outputs": [],
   "source": [
    "for i in range(300):\n",
    "    num = \"{0:05d}\".format(i+8701)\n",
    "    vmem_310[i] = np.load('/mnt/recordings/SimulationResults/20171020-1/%s/v.npy'%num)\n",
    "    vmem_308[i] = np.load('/mnt/recordings/SimulationResults/20171020-2/%s/v.npy'%num)\n",
    "    vmem_306[i] = np.load('/mnt/recordings/SimulationResults/20171020-3/%s/v.npy'%num)\n",
    "    vmem_304[i] = np.load('/mnt/recordings/SimulationResults/20171020-4/%s/v.npy'%num)\n",
    "    vmem_302[i] = np.load('/mnt/recordings/SimulationResults/20171020-5/%s/v.npy'%num)"
   ]
  },
  {
   "cell_type": "code",
   "execution_count": 17,
   "metadata": {},
   "outputs": [],
   "source": [
    "plt.plot(vmem_310, label='310K')\n",
    "plt.plot(vmem_308, label='308K')\n",
    "plt.plot(vmem_306, label='306K')\n",
    "plt.plot(vmem_304, label='304K')\n",
    "plt.plot(vmem_302, label='302K')\n",
    "plt.legend(fontsize=15)\n",
    "plt.tight_layout()\n",
    "plt.savefig('/mnt/recordings/AnalysisResult/Seno/simulation/Mahajan/20171023/APD_cooling.png', dpi=300, transparent=True)\n",
    "plt.close()"
   ]
  },
  {
   "cell_type": "markdown",
   "metadata": {},
   "source": [
    "# ガウス分布の出力"
   ]
  },
  {
   "cell_type": "code",
   "execution_count": 26,
   "metadata": {},
   "outputs": [],
   "source": [
    "data = np.ones([200, 200])*310\n",
    "for i in range(200):\n",
    "    for j in range(200):\n",
    "        if i > 90 and i < 110 and j > 100:\n",
    "            data[i,j] = 304\n",
    "plt.imshow(data, cmap='jet')\n",
    "plt.xticks([])\n",
    "plt.yticks([])\n",
    "plt.savefig('/mnt/recordings/AnalysisResult/Seno/simulation/Mahajan/20171023/cooling_region.png', dpi=300, transparent=True)\n",
    "plt.close()"
   ]
  },
  {
   "cell_type": "code",
   "execution_count": 27,
   "metadata": {
    "collapsed": true
   },
   "outputs": [],
   "source": [
    "plt.plot(y,x)\n",
    "plt.xlim([303.95, 310.01])\n",
    "plt.ylim([0, 200])\n",
    "plt.xlabel('Cooling temperature (K)', size=15)\n",
    "plt.savefig('/mnt/recordings/AnalysisResult/Seno/simulation/Mahajan/20171020/gausian_omega_5.png', dpi=300, transparent=True)\n",
    "plt.close()"
   ]
  },
  {
   "cell_type": "code",
   "execution_count": 29,
   "metadata": {
    "collapsed": true
   },
   "outputs": [],
   "source": [
    "plt.plot(y,x)\n",
    "plt.xlim([303.95, 310.01])\n",
    "plt.ylim([80, 120])\n",
    "plt.xlabel('Cooling temperature (K)', size=15)\n",
    "plt.savefig('/mnt/recordings/AnalysisResult/Seno/simulation/Mahajan/20171020/gausian_omega_5_detail.png', dpi=300, transparent=True)\n",
    "plt.close()"
   ]
  },
  {
   "cell_type": "code",
   "execution_count": 45,
   "metadata": {
    "collapsed": true
   },
   "outputs": [],
   "source": [
    "temp = np.ones((200, 200)) * 310.0\n",
    "\n",
    "for i in range(100):\n",
    "    temp[:, i+100] = y\n",
    "    \n",
    "plt.imshow(temp[80:120, 160:200], cmap='jet')\n",
    "plt.xticks([])\n",
    "plt.yticks([])\n",
    "plt.savefig('/mnt/recordings/AnalysisResult/Seno/simulation/Mahajan/20171020/temp_detail.png', dpi=300, transparent=True)\n",
    "plt.close()\n",
    "\n",
    "plt.imshow(temp, cmap='jet')\n",
    "plt.xticks([])\n",
    "plt.yticks([])\n",
    "plt.savefig('/mnt/recordings/AnalysisResult/Seno/simulation/Mahajan/20171020/temp.png', dpi=300, transparent=True)\n",
    "plt.close()"
   ]
  },
  {
   "cell_type": "code",
   "execution_count": null,
   "metadata": {
    "collapsed": true
   },
   "outputs": [],
   "source": []
  }
 ],
 "metadata": {
  "kernelspec": {
   "display_name": "Python 2",
   "language": "python",
   "name": "python2"
  },
  "language_info": {
   "codemirror_mode": {
    "name": "ipython",
    "version": 2
   },
   "file_extension": ".py",
   "mimetype": "text/x-python",
   "name": "python",
   "nbconvert_exporter": "python",
   "pygments_lexer": "ipython2",
   "version": "2.7.13"
  }
 },
 "nbformat": 4,
 "nbformat_minor": 2
}
